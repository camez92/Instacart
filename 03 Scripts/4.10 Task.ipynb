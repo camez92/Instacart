{
 "cells": [
  {
   "cell_type": "markdown",
   "id": "19eba709",
   "metadata": {},
   "source": [
    "# 4.10 Coding Etiquette and Excel Reporting"
   ]
  },
  {
   "cell_type": "markdown",
   "id": "0202f832",
   "metadata": {},
   "source": [
    "### Table of Contents\n",
    "\n",
    "1. Importing libraries and data\n",
    "2. Addressing Personally Identifiable Information\n",
    "3. Creating a regional flag within the dataset\n",
    "4. Excluding low-activity customers\n",
    "5. Creating customer \"profile\" for targeted marketing purposes\n",
    "6. Visualizing \"profile\" distribution\n",
    "7. Looking for insights through the customer \"profile\" groups\n",
    "8. Comparing customer profiles with regions and departments"
   ]
  },
  {
   "cell_type": "markdown",
   "id": "dc0fc02e",
   "metadata": {},
   "source": [
    "### 1. Importing libraries and data\n"
   ]
  },
  {
   "cell_type": "code",
   "execution_count": 7,
   "id": "3873cfcf",
   "metadata": {},
   "outputs": [],
   "source": [
    "# Import libraries\n",
    "import pandas as pd\n",
    "import numpy as np\n",
    "import os\n",
    "import matplotlib.pyplot as plt\n",
    "import seaborn as sns\n",
    "import scipy"
   ]
  },
  {
   "cell_type": "code",
   "execution_count": 8,
   "id": "1e702187",
   "metadata": {},
   "outputs": [],
   "source": [
    "#Creating a path for this project\n",
    "path = r'/Users/manuellituma/01-2023 Instacart Basket Analysis'"
   ]
  },
  {
   "cell_type": "code",
   "execution_count": 9,
   "id": "005182e4",
   "metadata": {},
   "outputs": [],
   "source": [
    "# Importing 'orders_products_merged.pkl' via pandas.pkl and os.path.join\n",
    "df_all = pd.read_pickle(os.path.join(path, '02 Data','Prepared Data', 'ords_prods_custm.pkl'))"
   ]
  },
  {
   "cell_type": "markdown",
   "id": "d1157522",
   "metadata": {},
   "source": [
    "### 2. Addressing Personally Identifiable Information"
   ]
  },
  {
   "cell_type": "code",
   "execution_count": 10,
   "id": "07fa59b8",
   "metadata": {},
   "outputs": [
    {
     "data": {
      "text/html": [
       "<div>\n",
       "<style scoped>\n",
       "    .dataframe tbody tr th:only-of-type {\n",
       "        vertical-align: middle;\n",
       "    }\n",
       "\n",
       "    .dataframe tbody tr th {\n",
       "        vertical-align: top;\n",
       "    }\n",
       "\n",
       "    .dataframe thead th {\n",
       "        text-align: right;\n",
       "    }\n",
       "</style>\n",
       "<table border=\"1\" class=\"dataframe\">\n",
       "  <thead>\n",
       "    <tr style=\"text-align: right;\">\n",
       "      <th></th>\n",
       "      <th>order_id</th>\n",
       "      <th>user_id</th>\n",
       "      <th>order_number</th>\n",
       "      <th>orders_day_of_week</th>\n",
       "      <th>order_hour_of_day</th>\n",
       "      <th>days_since_prior_order</th>\n",
       "      <th>product_id</th>\n",
       "      <th>add_to_cart_order</th>\n",
       "      <th>reordered</th>\n",
       "      <th>product_name</th>\n",
       "      <th>...</th>\n",
       "      <th>spending_flag</th>\n",
       "      <th>median_prior_orders</th>\n",
       "      <th>order_frequency_flag</th>\n",
       "      <th>gender</th>\n",
       "      <th>state</th>\n",
       "      <th>age</th>\n",
       "      <th>date_joined</th>\n",
       "      <th>number_dependants</th>\n",
       "      <th>family_status</th>\n",
       "      <th>income</th>\n",
       "    </tr>\n",
       "  </thead>\n",
       "  <tbody>\n",
       "    <tr>\n",
       "      <th>0</th>\n",
       "      <td>2398795.0</td>\n",
       "      <td>1</td>\n",
       "      <td>2.0</td>\n",
       "      <td>3.0</td>\n",
       "      <td>7.0</td>\n",
       "      <td>15.0</td>\n",
       "      <td>196.0</td>\n",
       "      <td>1.0</td>\n",
       "      <td>1.0</td>\n",
       "      <td>Soda</td>\n",
       "      <td>...</td>\n",
       "      <td>Low spender</td>\n",
       "      <td>20.5</td>\n",
       "      <td>Non-frequent customer</td>\n",
       "      <td>Female</td>\n",
       "      <td>Alabama</td>\n",
       "      <td>31</td>\n",
       "      <td>2/17/2019</td>\n",
       "      <td>3</td>\n",
       "      <td>married</td>\n",
       "      <td>40423</td>\n",
       "    </tr>\n",
       "    <tr>\n",
       "      <th>1</th>\n",
       "      <td>473747.0</td>\n",
       "      <td>1</td>\n",
       "      <td>3.0</td>\n",
       "      <td>3.0</td>\n",
       "      <td>12.0</td>\n",
       "      <td>21.0</td>\n",
       "      <td>196.0</td>\n",
       "      <td>1.0</td>\n",
       "      <td>1.0</td>\n",
       "      <td>Soda</td>\n",
       "      <td>...</td>\n",
       "      <td>Low spender</td>\n",
       "      <td>20.5</td>\n",
       "      <td>Non-frequent customer</td>\n",
       "      <td>Female</td>\n",
       "      <td>Alabama</td>\n",
       "      <td>31</td>\n",
       "      <td>2/17/2019</td>\n",
       "      <td>3</td>\n",
       "      <td>married</td>\n",
       "      <td>40423</td>\n",
       "    </tr>\n",
       "    <tr>\n",
       "      <th>2</th>\n",
       "      <td>2254736.0</td>\n",
       "      <td>1</td>\n",
       "      <td>4.0</td>\n",
       "      <td>4.0</td>\n",
       "      <td>7.0</td>\n",
       "      <td>29.0</td>\n",
       "      <td>196.0</td>\n",
       "      <td>1.0</td>\n",
       "      <td>1.0</td>\n",
       "      <td>Soda</td>\n",
       "      <td>...</td>\n",
       "      <td>Low spender</td>\n",
       "      <td>20.5</td>\n",
       "      <td>Non-frequent customer</td>\n",
       "      <td>Female</td>\n",
       "      <td>Alabama</td>\n",
       "      <td>31</td>\n",
       "      <td>2/17/2019</td>\n",
       "      <td>3</td>\n",
       "      <td>married</td>\n",
       "      <td>40423</td>\n",
       "    </tr>\n",
       "    <tr>\n",
       "      <th>3</th>\n",
       "      <td>431534.0</td>\n",
       "      <td>1</td>\n",
       "      <td>5.0</td>\n",
       "      <td>4.0</td>\n",
       "      <td>15.0</td>\n",
       "      <td>28.0</td>\n",
       "      <td>196.0</td>\n",
       "      <td>1.0</td>\n",
       "      <td>1.0</td>\n",
       "      <td>Soda</td>\n",
       "      <td>...</td>\n",
       "      <td>Low spender</td>\n",
       "      <td>20.5</td>\n",
       "      <td>Non-frequent customer</td>\n",
       "      <td>Female</td>\n",
       "      <td>Alabama</td>\n",
       "      <td>31</td>\n",
       "      <td>2/17/2019</td>\n",
       "      <td>3</td>\n",
       "      <td>married</td>\n",
       "      <td>40423</td>\n",
       "    </tr>\n",
       "    <tr>\n",
       "      <th>4</th>\n",
       "      <td>3367565.0</td>\n",
       "      <td>1</td>\n",
       "      <td>6.0</td>\n",
       "      <td>2.0</td>\n",
       "      <td>7.0</td>\n",
       "      <td>19.0</td>\n",
       "      <td>196.0</td>\n",
       "      <td>1.0</td>\n",
       "      <td>1.0</td>\n",
       "      <td>Soda</td>\n",
       "      <td>...</td>\n",
       "      <td>Low spender</td>\n",
       "      <td>20.5</td>\n",
       "      <td>Non-frequent customer</td>\n",
       "      <td>Female</td>\n",
       "      <td>Alabama</td>\n",
       "      <td>31</td>\n",
       "      <td>2/17/2019</td>\n",
       "      <td>3</td>\n",
       "      <td>married</td>\n",
       "      <td>40423</td>\n",
       "    </tr>\n",
       "  </tbody>\n",
       "</table>\n",
       "<p>5 rows × 31 columns</p>\n",
       "</div>"
      ],
      "text/plain": [
       "    order_id user_id  order_number  orders_day_of_week  order_hour_of_day  \\\n",
       "0  2398795.0       1           2.0                 3.0                7.0   \n",
       "1   473747.0       1           3.0                 3.0               12.0   \n",
       "2  2254736.0       1           4.0                 4.0                7.0   \n",
       "3   431534.0       1           5.0                 4.0               15.0   \n",
       "4  3367565.0       1           6.0                 2.0                7.0   \n",
       "\n",
       "   days_since_prior_order  product_id  add_to_cart_order  reordered  \\\n",
       "0                    15.0       196.0                1.0        1.0   \n",
       "1                    21.0       196.0                1.0        1.0   \n",
       "2                    29.0       196.0                1.0        1.0   \n",
       "3                    28.0       196.0                1.0        1.0   \n",
       "4                    19.0       196.0                1.0        1.0   \n",
       "\n",
       "  product_name  ...  spending_flag  median_prior_orders  \\\n",
       "0         Soda  ...    Low spender                 20.5   \n",
       "1         Soda  ...    Low spender                 20.5   \n",
       "2         Soda  ...    Low spender                 20.5   \n",
       "3         Soda  ...    Low spender                 20.5   \n",
       "4         Soda  ...    Low spender                 20.5   \n",
       "\n",
       "    order_frequency_flag  gender    state age date_joined number_dependants  \\\n",
       "0  Non-frequent customer  Female  Alabama  31   2/17/2019                 3   \n",
       "1  Non-frequent customer  Female  Alabama  31   2/17/2019                 3   \n",
       "2  Non-frequent customer  Female  Alabama  31   2/17/2019                 3   \n",
       "3  Non-frequent customer  Female  Alabama  31   2/17/2019                 3   \n",
       "4  Non-frequent customer  Female  Alabama  31   2/17/2019                 3   \n",
       "\n",
       "   family_status income  \n",
       "0        married  40423  \n",
       "1        married  40423  \n",
       "2        married  40423  \n",
       "3        married  40423  \n",
       "4        married  40423  \n",
       "\n",
       "[5 rows x 31 columns]"
      ]
     },
     "execution_count": 10,
     "metadata": {},
     "output_type": "execute_result"
    }
   ],
   "source": [
    "df_all.head()"
   ]
  },
  {
   "cell_type": "code",
   "execution_count": 11,
   "id": "15d5db35",
   "metadata": {},
   "outputs": [
    {
     "data": {
      "text/plain": [
       "(30328764, 31)"
      ]
     },
     "execution_count": 11,
     "metadata": {},
     "output_type": "execute_result"
    }
   ],
   "source": [
    "# Check shape of data frame\n",
    "df_all.shape"
   ]
  },
  {
   "cell_type": "code",
   "execution_count": 12,
   "id": "3c1de425",
   "metadata": {},
   "outputs": [
    {
     "data": {
      "text/plain": [
       "order_id                   float64\n",
       "user_id                     object\n",
       "order_number               float64\n",
       "orders_day_of_week         float64\n",
       "order_hour_of_day          float64\n",
       "days_since_prior_order     float16\n",
       "product_id                 float64\n",
       "add_to_cart_order          float64\n",
       "reordered                  float64\n",
       "product_name                object\n",
       "aisle_id                   float64\n",
       "department_id              float64\n",
       "prices                     float16\n",
       "_merge                    category\n",
       "price_range_loc             object\n",
       "busiest_day                 object\n",
       "busiest_days                object\n",
       "busiest_period_of_day       object\n",
       "max_order                  float64\n",
       "loyalty_flag                object\n",
       "average_price              float16\n",
       "spending_flag               object\n",
       "median_prior_orders        float16\n",
       "order_frequency_flag        object\n",
       "gender                      object\n",
       "state                       object\n",
       "age                          int64\n",
       "date_joined                 object\n",
       "number_dependants            int64\n",
       "family_status               object\n",
       "income                       int64\n",
       "dtype: object"
      ]
     },
     "execution_count": 12,
     "metadata": {},
     "output_type": "execute_result"
    }
   ],
   "source": [
    "# Check data types\n",
    "df_all.dtypes"
   ]
  },
  {
   "cell_type": "markdown",
   "id": "ff7fb5d5",
   "metadata": {},
   "source": [
    "#### A security concern of this dataset was the information related to name and surname. Nontheless, these columns were deleted in past exercise, due to that, they are not relevant for this specific project. In addition, user_id is more than enough to identify the different customers."
   ]
  },
  {
   "cell_type": "markdown",
   "id": "df88b383",
   "metadata": {},
   "source": [
    "### 3. Creating a regional flag within the dataset"
   ]
  },
  {
   "cell_type": "code",
   "execution_count": 13,
   "id": "2f200840",
   "metadata": {},
   "outputs": [
    {
     "data": {
      "text/plain": [
       "Pennsylvania            626003\n",
       "California              619377\n",
       "Rhode Island            616005\n",
       "Georgia                 615535\n",
       "New Mexico              613252\n",
       "Arizona                 613146\n",
       "North Carolina          611018\n",
       "Oklahoma                610954\n",
       "Alaska                  607402\n",
       "Minnesota               606952\n",
       "Massachusetts           606002\n",
       "Wyoming                 603254\n",
       "Virginia                600998\n",
       "Missouri                600027\n",
       "Texas                   599536\n",
       "Colorado                599168\n",
       "Maine                   597710\n",
       "North Dakota            597399\n",
       "Alabama                 596749\n",
       "Delaware                596476\n",
       "Louisiana               596377\n",
       "Kansas                  596360\n",
       "South Carolina          596268\n",
       "Nevada                  595274\n",
       "Arkansas                595097\n",
       "Oregon                  595079\n",
       "New York                594878\n",
       "Montana                 594458\n",
       "Washington              593357\n",
       "South Dakota            592697\n",
       "Hawaii                  592166\n",
       "Illinois                592080\n",
       "Kentucky                591669\n",
       "Mississippi             591373\n",
       "Michigan                590055\n",
       "Florida                 588777\n",
       "Wisconsin               587462\n",
       "Ohio                    587165\n",
       "Indiana                 587016\n",
       "New Jersey              586577\n",
       "Maryland                586228\n",
       "Iowa                    585291\n",
       "Nebraska                585082\n",
       "Connecticut             582420\n",
       "Tennessee               577469\n",
       "New Hampshire           575175\n",
       "District of Columbia    573683\n",
       "Utah                    572063\n",
       "West Virginia           571611\n",
       "Vermont                 571502\n",
       "Idaho                   567092\n",
       "Name: state, dtype: int64"
      ]
     },
     "execution_count": 13,
     "metadata": {},
     "output_type": "execute_result"
    }
   ],
   "source": [
    "# Checking value counts for the state column\n",
    "df_all['state'].value_counts()"
   ]
  },
  {
   "cell_type": "markdown",
   "id": "c715c4b2",
   "metadata": {},
   "source": [
    "#### Creating containing vectors for the different states"
   ]
  },
  {
   "cell_type": "code",
   "execution_count": 14,
   "id": "b8ba9737",
   "metadata": {},
   "outputs": [],
   "source": [
    "Northeast = ['Maine', 'New Hampshire', 'Vermont', 'Massachusetts', 'Rhode Island', 'Connecticut', 'New York', 'Pennsylvania', 'New Jersey']"
   ]
  },
  {
   "cell_type": "code",
   "execution_count": 15,
   "id": "7335d0f0",
   "metadata": {},
   "outputs": [],
   "source": [
    "Midwest = ['Wisconsin', 'Michigan', 'Illinois', 'Indiana', 'Ohio', 'North Dakota', 'South Dakota', 'Nebraska', 'Kansas', 'Minnesota', 'Iowa', 'Missouri']"
   ]
  },
  {
   "cell_type": "code",
   "execution_count": 16,
   "id": "b09e4335",
   "metadata": {},
   "outputs": [],
   "source": [
    "South = ['Delaware', 'Maryland', 'District of Columbia', 'Virginia', 'West Virginia', 'North Carolina', 'South Carolina', 'Georgia', 'Florida', 'Kentucky',\n",
    "'Tennessee', 'Mississippi', 'Alabama', 'Oklahoma', 'Texas', 'Arkansas', 'Louisiana']"
   ]
  },
  {
   "cell_type": "code",
   "execution_count": 17,
   "id": "78d141bc",
   "metadata": {},
   "outputs": [],
   "source": [
    "West = ['Idaho', 'Montana', 'Wyoming', 'Nevada', 'Utah', 'Colorado', 'Arizona', 'New Mexico', 'Alaska', 'Washington', 'Oregon', 'California', 'Hawaii']"
   ]
  },
  {
   "cell_type": "markdown",
   "id": "3d8780d5",
   "metadata": {},
   "source": [
    "#### Creating column region"
   ]
  },
  {
   "cell_type": "code",
   "execution_count": 19,
   "id": "8f402dec",
   "metadata": {},
   "outputs": [],
   "source": [
    "df_all.loc[df_all['state'].isin(Northeast), 'region'] = 'Northeast'"
   ]
  },
  {
   "cell_type": "code",
   "execution_count": 20,
   "id": "6b1d6fd9",
   "metadata": {},
   "outputs": [],
   "source": [
    "df_all.loc[df_all['state'].isin(Midwest), 'region'] = 'Midwest'"
   ]
  },
  {
   "cell_type": "code",
   "execution_count": 21,
   "id": "c07ec84d",
   "metadata": {},
   "outputs": [],
   "source": [
    "df_all.loc[df_all['state'].isin(South), 'region'] = 'South'"
   ]
  },
  {
   "cell_type": "code",
   "execution_count": 22,
   "id": "75b2df7b",
   "metadata": {},
   "outputs": [],
   "source": [
    "df_all.loc[df_all['state'].isin(West), 'region'] = 'West'"
   ]
  },
  {
   "cell_type": "markdown",
   "id": "caf2b0a3",
   "metadata": {},
   "source": [
    "#### Checking new column 'region'"
   ]
  },
  {
   "cell_type": "code",
   "execution_count": 23,
   "id": "cdf0343c",
   "metadata": {},
   "outputs": [
    {
     "data": {
      "text/plain": [
       "South        10099818\n",
       "West          7765088\n",
       "Midwest       7107586\n",
       "Northeast     5356272\n",
       "Name: region, dtype: int64"
      ]
     },
     "execution_count": 23,
     "metadata": {},
     "output_type": "execute_result"
    }
   ],
   "source": [
    "df_all['region'].value_counts()"
   ]
  },
  {
   "cell_type": "code",
   "execution_count": 24,
   "id": "a522ab66",
   "metadata": {},
   "outputs": [
    {
     "data": {
      "text/html": [
       "<div>\n",
       "<style scoped>\n",
       "    .dataframe tbody tr th:only-of-type {\n",
       "        vertical-align: middle;\n",
       "    }\n",
       "\n",
       "    .dataframe tbody tr th {\n",
       "        vertical-align: top;\n",
       "    }\n",
       "\n",
       "    .dataframe thead th {\n",
       "        text-align: right;\n",
       "    }\n",
       "</style>\n",
       "<table border=\"1\" class=\"dataframe\">\n",
       "  <thead>\n",
       "    <tr style=\"text-align: right;\">\n",
       "      <th></th>\n",
       "      <th>order_id</th>\n",
       "      <th>user_id</th>\n",
       "      <th>order_number</th>\n",
       "      <th>orders_day_of_week</th>\n",
       "      <th>order_hour_of_day</th>\n",
       "      <th>days_since_prior_order</th>\n",
       "      <th>product_id</th>\n",
       "      <th>add_to_cart_order</th>\n",
       "      <th>reordered</th>\n",
       "      <th>product_name</th>\n",
       "      <th>...</th>\n",
       "      <th>median_prior_orders</th>\n",
       "      <th>order_frequency_flag</th>\n",
       "      <th>gender</th>\n",
       "      <th>state</th>\n",
       "      <th>age</th>\n",
       "      <th>date_joined</th>\n",
       "      <th>number_dependants</th>\n",
       "      <th>family_status</th>\n",
       "      <th>income</th>\n",
       "      <th>region</th>\n",
       "    </tr>\n",
       "  </thead>\n",
       "  <tbody>\n",
       "    <tr>\n",
       "      <th>0</th>\n",
       "      <td>2398795.0</td>\n",
       "      <td>1</td>\n",
       "      <td>2.0</td>\n",
       "      <td>3.0</td>\n",
       "      <td>7.0</td>\n",
       "      <td>15.0</td>\n",
       "      <td>196.0</td>\n",
       "      <td>1.0</td>\n",
       "      <td>1.0</td>\n",
       "      <td>Soda</td>\n",
       "      <td>...</td>\n",
       "      <td>20.5</td>\n",
       "      <td>Non-frequent customer</td>\n",
       "      <td>Female</td>\n",
       "      <td>Alabama</td>\n",
       "      <td>31</td>\n",
       "      <td>2/17/2019</td>\n",
       "      <td>3</td>\n",
       "      <td>married</td>\n",
       "      <td>40423</td>\n",
       "      <td>South</td>\n",
       "    </tr>\n",
       "    <tr>\n",
       "      <th>1</th>\n",
       "      <td>473747.0</td>\n",
       "      <td>1</td>\n",
       "      <td>3.0</td>\n",
       "      <td>3.0</td>\n",
       "      <td>12.0</td>\n",
       "      <td>21.0</td>\n",
       "      <td>196.0</td>\n",
       "      <td>1.0</td>\n",
       "      <td>1.0</td>\n",
       "      <td>Soda</td>\n",
       "      <td>...</td>\n",
       "      <td>20.5</td>\n",
       "      <td>Non-frequent customer</td>\n",
       "      <td>Female</td>\n",
       "      <td>Alabama</td>\n",
       "      <td>31</td>\n",
       "      <td>2/17/2019</td>\n",
       "      <td>3</td>\n",
       "      <td>married</td>\n",
       "      <td>40423</td>\n",
       "      <td>South</td>\n",
       "    </tr>\n",
       "    <tr>\n",
       "      <th>2</th>\n",
       "      <td>2254736.0</td>\n",
       "      <td>1</td>\n",
       "      <td>4.0</td>\n",
       "      <td>4.0</td>\n",
       "      <td>7.0</td>\n",
       "      <td>29.0</td>\n",
       "      <td>196.0</td>\n",
       "      <td>1.0</td>\n",
       "      <td>1.0</td>\n",
       "      <td>Soda</td>\n",
       "      <td>...</td>\n",
       "      <td>20.5</td>\n",
       "      <td>Non-frequent customer</td>\n",
       "      <td>Female</td>\n",
       "      <td>Alabama</td>\n",
       "      <td>31</td>\n",
       "      <td>2/17/2019</td>\n",
       "      <td>3</td>\n",
       "      <td>married</td>\n",
       "      <td>40423</td>\n",
       "      <td>South</td>\n",
       "    </tr>\n",
       "    <tr>\n",
       "      <th>3</th>\n",
       "      <td>431534.0</td>\n",
       "      <td>1</td>\n",
       "      <td>5.0</td>\n",
       "      <td>4.0</td>\n",
       "      <td>15.0</td>\n",
       "      <td>28.0</td>\n",
       "      <td>196.0</td>\n",
       "      <td>1.0</td>\n",
       "      <td>1.0</td>\n",
       "      <td>Soda</td>\n",
       "      <td>...</td>\n",
       "      <td>20.5</td>\n",
       "      <td>Non-frequent customer</td>\n",
       "      <td>Female</td>\n",
       "      <td>Alabama</td>\n",
       "      <td>31</td>\n",
       "      <td>2/17/2019</td>\n",
       "      <td>3</td>\n",
       "      <td>married</td>\n",
       "      <td>40423</td>\n",
       "      <td>South</td>\n",
       "    </tr>\n",
       "    <tr>\n",
       "      <th>4</th>\n",
       "      <td>3367565.0</td>\n",
       "      <td>1</td>\n",
       "      <td>6.0</td>\n",
       "      <td>2.0</td>\n",
       "      <td>7.0</td>\n",
       "      <td>19.0</td>\n",
       "      <td>196.0</td>\n",
       "      <td>1.0</td>\n",
       "      <td>1.0</td>\n",
       "      <td>Soda</td>\n",
       "      <td>...</td>\n",
       "      <td>20.5</td>\n",
       "      <td>Non-frequent customer</td>\n",
       "      <td>Female</td>\n",
       "      <td>Alabama</td>\n",
       "      <td>31</td>\n",
       "      <td>2/17/2019</td>\n",
       "      <td>3</td>\n",
       "      <td>married</td>\n",
       "      <td>40423</td>\n",
       "      <td>South</td>\n",
       "    </tr>\n",
       "  </tbody>\n",
       "</table>\n",
       "<p>5 rows × 32 columns</p>\n",
       "</div>"
      ],
      "text/plain": [
       "    order_id user_id  order_number  orders_day_of_week  order_hour_of_day  \\\n",
       "0  2398795.0       1           2.0                 3.0                7.0   \n",
       "1   473747.0       1           3.0                 3.0               12.0   \n",
       "2  2254736.0       1           4.0                 4.0                7.0   \n",
       "3   431534.0       1           5.0                 4.0               15.0   \n",
       "4  3367565.0       1           6.0                 2.0                7.0   \n",
       "\n",
       "   days_since_prior_order  product_id  add_to_cart_order  reordered  \\\n",
       "0                    15.0       196.0                1.0        1.0   \n",
       "1                    21.0       196.0                1.0        1.0   \n",
       "2                    29.0       196.0                1.0        1.0   \n",
       "3                    28.0       196.0                1.0        1.0   \n",
       "4                    19.0       196.0                1.0        1.0   \n",
       "\n",
       "  product_name  ...  median_prior_orders   order_frequency_flag  gender  \\\n",
       "0         Soda  ...                 20.5  Non-frequent customer  Female   \n",
       "1         Soda  ...                 20.5  Non-frequent customer  Female   \n",
       "2         Soda  ...                 20.5  Non-frequent customer  Female   \n",
       "3         Soda  ...                 20.5  Non-frequent customer  Female   \n",
       "4         Soda  ...                 20.5  Non-frequent customer  Female   \n",
       "\n",
       "     state age date_joined number_dependants family_status  income region  \n",
       "0  Alabama  31   2/17/2019                 3       married   40423  South  \n",
       "1  Alabama  31   2/17/2019                 3       married   40423  South  \n",
       "2  Alabama  31   2/17/2019                 3       married   40423  South  \n",
       "3  Alabama  31   2/17/2019                 3       married   40423  South  \n",
       "4  Alabama  31   2/17/2019                 3       married   40423  South  \n",
       "\n",
       "[5 rows x 32 columns]"
      ]
     },
     "execution_count": 24,
     "metadata": {},
     "output_type": "execute_result"
    }
   ],
   "source": [
    "df_all.head()"
   ]
  },
  {
   "cell_type": "markdown",
   "id": "3fea6722",
   "metadata": {},
   "source": [
    "### Determine whether there's a difference in spending habits between the different U.S regions"
   ]
  },
  {
   "cell_type": "code",
   "execution_count": 25,
   "id": "b3ca1d6b",
   "metadata": {},
   "outputs": [],
   "source": [
    "# Creating crosstab according to region and spending flag\n",
    "crosstab = pd.crosstab(df_all['region'], df_all['spending_flag'], dropna = False)"
   ]
  },
  {
   "cell_type": "code",
   "execution_count": 26,
   "id": "913d7f8a",
   "metadata": {},
   "outputs": [
    {
     "data": {
      "text/html": [
       "<div>\n",
       "<style scoped>\n",
       "    .dataframe tbody tr th:only-of-type {\n",
       "        vertical-align: middle;\n",
       "    }\n",
       "\n",
       "    .dataframe tbody tr th {\n",
       "        vertical-align: top;\n",
       "    }\n",
       "\n",
       "    .dataframe thead th {\n",
       "        text-align: right;\n",
       "    }\n",
       "</style>\n",
       "<table border=\"1\" class=\"dataframe\">\n",
       "  <thead>\n",
       "    <tr style=\"text-align: right;\">\n",
       "      <th>spending_flag</th>\n",
       "      <th>High spender</th>\n",
       "      <th>Low spender</th>\n",
       "    </tr>\n",
       "    <tr>\n",
       "      <th>region</th>\n",
       "      <th></th>\n",
       "      <th></th>\n",
       "    </tr>\n",
       "  </thead>\n",
       "  <tbody>\n",
       "    <tr>\n",
       "      <th>Midwest</th>\n",
       "      <td>30388</td>\n",
       "      <td>7077198</td>\n",
       "    </tr>\n",
       "    <tr>\n",
       "      <th>Northeast</th>\n",
       "      <td>19254</td>\n",
       "      <td>5337018</td>\n",
       "    </tr>\n",
       "    <tr>\n",
       "      <th>South</th>\n",
       "      <td>40985</td>\n",
       "      <td>10058832</td>\n",
       "    </tr>\n",
       "    <tr>\n",
       "      <th>West</th>\n",
       "      <td>31312</td>\n",
       "      <td>7733776</td>\n",
       "    </tr>\n",
       "  </tbody>\n",
       "</table>\n",
       "</div>"
      ],
      "text/plain": [
       "spending_flag  High spender  Low spender\n",
       "region                                  \n",
       "Midwest               30388      7077198\n",
       "Northeast             19254      5337018\n",
       "South                 40985     10058832\n",
       "West                  31312      7733776"
      ]
     },
     "execution_count": 26,
     "metadata": {},
     "output_type": "execute_result"
    }
   ],
   "source": [
    "crosstab"
   ]
  },
  {
   "cell_type": "markdown",
   "id": "8d930816",
   "metadata": {},
   "source": [
    "##### There is a difference between the spending habits in the different regions. In general, there is a higher number low spender customers in all the areas. However, the south part presents the higher values in both cases."
   ]
  },
  {
   "cell_type": "markdown",
   "id": "0334f02d",
   "metadata": {},
   "source": [
    "### 4. Excluding low-activity customers\n"
   ]
  },
  {
   "cell_type": "code",
   "execution_count": 27,
   "id": "c1e211f2",
   "metadata": {},
   "outputs": [],
   "source": [
    "# Creating an exclusion flag\n",
    "df_all.loc[df_all['max_order'] < 5, 'exclusion flag'] = 'low-activity'\n",
    "df_all.loc[df_all['max_order'] >= 5, 'exclusion flag'] = 'high-activity'"
   ]
  },
  {
   "cell_type": "code",
   "execution_count": 28,
   "id": "655993cd",
   "metadata": {},
   "outputs": [
    {
     "data": {
      "text/plain": [
       "high-activity    29303281\n",
       "low-activity      1025482\n",
       "Name: exclusion flag, dtype: int64"
      ]
     },
     "execution_count": 28,
     "metadata": {},
     "output_type": "execute_result"
    }
   ],
   "source": [
    "df_all['exclusion flag'].value_counts()"
   ]
  },
  {
   "cell_type": "code",
   "execution_count": 29,
   "id": "8838933d",
   "metadata": {},
   "outputs": [
    {
     "data": {
      "text/html": [
       "<div>\n",
       "<style scoped>\n",
       "    .dataframe tbody tr th:only-of-type {\n",
       "        vertical-align: middle;\n",
       "    }\n",
       "\n",
       "    .dataframe tbody tr th {\n",
       "        vertical-align: top;\n",
       "    }\n",
       "\n",
       "    .dataframe thead th {\n",
       "        text-align: right;\n",
       "    }\n",
       "</style>\n",
       "<table border=\"1\" class=\"dataframe\">\n",
       "  <thead>\n",
       "    <tr style=\"text-align: right;\">\n",
       "      <th></th>\n",
       "      <th>order_id</th>\n",
       "      <th>user_id</th>\n",
       "      <th>order_number</th>\n",
       "      <th>orders_day_of_week</th>\n",
       "      <th>order_hour_of_day</th>\n",
       "      <th>days_since_prior_order</th>\n",
       "      <th>product_id</th>\n",
       "      <th>add_to_cart_order</th>\n",
       "      <th>reordered</th>\n",
       "      <th>product_name</th>\n",
       "      <th>...</th>\n",
       "      <th>order_frequency_flag</th>\n",
       "      <th>gender</th>\n",
       "      <th>state</th>\n",
       "      <th>age</th>\n",
       "      <th>date_joined</th>\n",
       "      <th>number_dependants</th>\n",
       "      <th>family_status</th>\n",
       "      <th>income</th>\n",
       "      <th>region</th>\n",
       "      <th>exclusion flag</th>\n",
       "    </tr>\n",
       "  </thead>\n",
       "  <tbody>\n",
       "    <tr>\n",
       "      <th>0</th>\n",
       "      <td>2398795.0</td>\n",
       "      <td>1</td>\n",
       "      <td>2.0</td>\n",
       "      <td>3.0</td>\n",
       "      <td>7.0</td>\n",
       "      <td>15.0</td>\n",
       "      <td>196.0</td>\n",
       "      <td>1.0</td>\n",
       "      <td>1.0</td>\n",
       "      <td>Soda</td>\n",
       "      <td>...</td>\n",
       "      <td>Non-frequent customer</td>\n",
       "      <td>Female</td>\n",
       "      <td>Alabama</td>\n",
       "      <td>31</td>\n",
       "      <td>2/17/2019</td>\n",
       "      <td>3</td>\n",
       "      <td>married</td>\n",
       "      <td>40423</td>\n",
       "      <td>South</td>\n",
       "      <td>high-activity</td>\n",
       "    </tr>\n",
       "    <tr>\n",
       "      <th>1</th>\n",
       "      <td>473747.0</td>\n",
       "      <td>1</td>\n",
       "      <td>3.0</td>\n",
       "      <td>3.0</td>\n",
       "      <td>12.0</td>\n",
       "      <td>21.0</td>\n",
       "      <td>196.0</td>\n",
       "      <td>1.0</td>\n",
       "      <td>1.0</td>\n",
       "      <td>Soda</td>\n",
       "      <td>...</td>\n",
       "      <td>Non-frequent customer</td>\n",
       "      <td>Female</td>\n",
       "      <td>Alabama</td>\n",
       "      <td>31</td>\n",
       "      <td>2/17/2019</td>\n",
       "      <td>3</td>\n",
       "      <td>married</td>\n",
       "      <td>40423</td>\n",
       "      <td>South</td>\n",
       "      <td>high-activity</td>\n",
       "    </tr>\n",
       "    <tr>\n",
       "      <th>2</th>\n",
       "      <td>2254736.0</td>\n",
       "      <td>1</td>\n",
       "      <td>4.0</td>\n",
       "      <td>4.0</td>\n",
       "      <td>7.0</td>\n",
       "      <td>29.0</td>\n",
       "      <td>196.0</td>\n",
       "      <td>1.0</td>\n",
       "      <td>1.0</td>\n",
       "      <td>Soda</td>\n",
       "      <td>...</td>\n",
       "      <td>Non-frequent customer</td>\n",
       "      <td>Female</td>\n",
       "      <td>Alabama</td>\n",
       "      <td>31</td>\n",
       "      <td>2/17/2019</td>\n",
       "      <td>3</td>\n",
       "      <td>married</td>\n",
       "      <td>40423</td>\n",
       "      <td>South</td>\n",
       "      <td>high-activity</td>\n",
       "    </tr>\n",
       "    <tr>\n",
       "      <th>3</th>\n",
       "      <td>431534.0</td>\n",
       "      <td>1</td>\n",
       "      <td>5.0</td>\n",
       "      <td>4.0</td>\n",
       "      <td>15.0</td>\n",
       "      <td>28.0</td>\n",
       "      <td>196.0</td>\n",
       "      <td>1.0</td>\n",
       "      <td>1.0</td>\n",
       "      <td>Soda</td>\n",
       "      <td>...</td>\n",
       "      <td>Non-frequent customer</td>\n",
       "      <td>Female</td>\n",
       "      <td>Alabama</td>\n",
       "      <td>31</td>\n",
       "      <td>2/17/2019</td>\n",
       "      <td>3</td>\n",
       "      <td>married</td>\n",
       "      <td>40423</td>\n",
       "      <td>South</td>\n",
       "      <td>high-activity</td>\n",
       "    </tr>\n",
       "    <tr>\n",
       "      <th>4</th>\n",
       "      <td>3367565.0</td>\n",
       "      <td>1</td>\n",
       "      <td>6.0</td>\n",
       "      <td>2.0</td>\n",
       "      <td>7.0</td>\n",
       "      <td>19.0</td>\n",
       "      <td>196.0</td>\n",
       "      <td>1.0</td>\n",
       "      <td>1.0</td>\n",
       "      <td>Soda</td>\n",
       "      <td>...</td>\n",
       "      <td>Non-frequent customer</td>\n",
       "      <td>Female</td>\n",
       "      <td>Alabama</td>\n",
       "      <td>31</td>\n",
       "      <td>2/17/2019</td>\n",
       "      <td>3</td>\n",
       "      <td>married</td>\n",
       "      <td>40423</td>\n",
       "      <td>South</td>\n",
       "      <td>high-activity</td>\n",
       "    </tr>\n",
       "  </tbody>\n",
       "</table>\n",
       "<p>5 rows × 33 columns</p>\n",
       "</div>"
      ],
      "text/plain": [
       "    order_id user_id  order_number  orders_day_of_week  order_hour_of_day  \\\n",
       "0  2398795.0       1           2.0                 3.0                7.0   \n",
       "1   473747.0       1           3.0                 3.0               12.0   \n",
       "2  2254736.0       1           4.0                 4.0                7.0   \n",
       "3   431534.0       1           5.0                 4.0               15.0   \n",
       "4  3367565.0       1           6.0                 2.0                7.0   \n",
       "\n",
       "   days_since_prior_order  product_id  add_to_cart_order  reordered  \\\n",
       "0                    15.0       196.0                1.0        1.0   \n",
       "1                    21.0       196.0                1.0        1.0   \n",
       "2                    29.0       196.0                1.0        1.0   \n",
       "3                    28.0       196.0                1.0        1.0   \n",
       "4                    19.0       196.0                1.0        1.0   \n",
       "\n",
       "  product_name  ...   order_frequency_flag  gender    state age date_joined  \\\n",
       "0         Soda  ...  Non-frequent customer  Female  Alabama  31   2/17/2019   \n",
       "1         Soda  ...  Non-frequent customer  Female  Alabama  31   2/17/2019   \n",
       "2         Soda  ...  Non-frequent customer  Female  Alabama  31   2/17/2019   \n",
       "3         Soda  ...  Non-frequent customer  Female  Alabama  31   2/17/2019   \n",
       "4         Soda  ...  Non-frequent customer  Female  Alabama  31   2/17/2019   \n",
       "\n",
       "  number_dependants family_status income  region exclusion flag  \n",
       "0                 3       married  40423   South  high-activity  \n",
       "1                 3       married  40423   South  high-activity  \n",
       "2                 3       married  40423   South  high-activity  \n",
       "3                 3       married  40423   South  high-activity  \n",
       "4                 3       married  40423   South  high-activity  \n",
       "\n",
       "[5 rows x 33 columns]"
      ]
     },
     "execution_count": 29,
     "metadata": {},
     "output_type": "execute_result"
    }
   ],
   "source": [
    "df_all.head()"
   ]
  },
  {
   "cell_type": "code",
   "execution_count": 30,
   "id": "c21b482c",
   "metadata": {},
   "outputs": [],
   "source": [
    "# Excluding low activiy custumers from the dataset\n",
    "df_2 = df_all.loc[df_all['exclusion flag'] == 'high-activity']"
   ]
  },
  {
   "cell_type": "code",
   "execution_count": 31,
   "id": "3edbb9f7",
   "metadata": {},
   "outputs": [
    {
     "data": {
      "text/plain": [
       "(29303281, 33)"
      ]
     },
     "execution_count": 31,
     "metadata": {},
     "output_type": "execute_result"
    }
   ],
   "source": [
    "# Check dataframe shape\n",
    "df_2.shape"
   ]
  },
  {
   "cell_type": "code",
   "execution_count": 32,
   "id": "de301de9",
   "metadata": {},
   "outputs": [
    {
     "data": {
      "text/plain": [
       "high-activity    29303281\n",
       "Name: exclusion flag, dtype: int64"
      ]
     },
     "execution_count": 32,
     "metadata": {},
     "output_type": "execute_result"
    }
   ],
   "source": [
    "df_2['exclusion flag'].value_counts()"
   ]
  },
  {
   "cell_type": "code",
   "execution_count": 33,
   "id": "6122765a",
   "metadata": {},
   "outputs": [],
   "source": [
    "# Export data frame excluding low activity customers\n",
    "df_2.to_pickle(os.path.join(path, '02 Data', 'Prepared Data', 'df_high_activity_customers.pkl'))"
   ]
  },
  {
   "cell_type": "markdown",
   "id": "d5691533",
   "metadata": {},
   "source": [
    "### 5. Creating customer \"profile\" for targeted marketing purposes"
   ]
  },
  {
   "cell_type": "code",
   "execution_count": 34,
   "id": "b855b343",
   "metadata": {},
   "outputs": [],
   "source": [
    "# Reloading scripts (most recently exported pkl)\n",
    "\n",
    "# Importing data\n",
    "\n",
    "# identifying project path\n",
    "path = r'/Users/manuellituma/01-2023 Instacart Basket Analysis'\n",
    "\n",
    "# Import Instacart prepared orders data\n",
    "df_2 = pd.read_pickle(os.path.join(path, '02 Data','Prepared Data', 'df_high_activity_customers.pkl'))"
   ]
  },
  {
   "cell_type": "markdown",
   "id": "46e3bd62",
   "metadata": {},
   "source": [
    "#### Analyzing variables"
   ]
  },
  {
   "cell_type": "code",
   "execution_count": 35,
   "id": "6241cce9",
   "metadata": {},
   "outputs": [],
   "source": [
    "crossprofil = pd.crosstab(df_2['family_status'], df_2['number_dependants'], dropna = False)"
   ]
  },
  {
   "cell_type": "code",
   "execution_count": 36,
   "id": "080d35e8",
   "metadata": {},
   "outputs": [
    {
     "data": {
      "text/html": [
       "<div>\n",
       "<style scoped>\n",
       "    .dataframe tbody tr th:only-of-type {\n",
       "        vertical-align: middle;\n",
       "    }\n",
       "\n",
       "    .dataframe tbody tr th {\n",
       "        vertical-align: top;\n",
       "    }\n",
       "\n",
       "    .dataframe thead th {\n",
       "        text-align: right;\n",
       "    }\n",
       "</style>\n",
       "<table border=\"1\" class=\"dataframe\">\n",
       "  <thead>\n",
       "    <tr style=\"text-align: right;\">\n",
       "      <th>number_dependants</th>\n",
       "      <th>0</th>\n",
       "      <th>1</th>\n",
       "      <th>2</th>\n",
       "      <th>3</th>\n",
       "    </tr>\n",
       "    <tr>\n",
       "      <th>family_status</th>\n",
       "      <th></th>\n",
       "      <th></th>\n",
       "      <th></th>\n",
       "      <th></th>\n",
       "    </tr>\n",
       "  </thead>\n",
       "  <tbody>\n",
       "    <tr>\n",
       "      <th>divorced/widowed</th>\n",
       "      <td>2504114</td>\n",
       "      <td>0</td>\n",
       "      <td>0</td>\n",
       "      <td>0</td>\n",
       "    </tr>\n",
       "    <tr>\n",
       "      <th>living with parents and siblings</th>\n",
       "      <td>0</td>\n",
       "      <td>481447</td>\n",
       "      <td>458654</td>\n",
       "      <td>462551</td>\n",
       "    </tr>\n",
       "    <tr>\n",
       "      <th>married</th>\n",
       "      <td>0</td>\n",
       "      <td>6822179</td>\n",
       "      <td>6858671</td>\n",
       "      <td>6894892</td>\n",
       "    </tr>\n",
       "    <tr>\n",
       "      <th>single</th>\n",
       "      <td>4820773</td>\n",
       "      <td>0</td>\n",
       "      <td>0</td>\n",
       "      <td>0</td>\n",
       "    </tr>\n",
       "  </tbody>\n",
       "</table>\n",
       "</div>"
      ],
      "text/plain": [
       "number_dependants                       0        1        2        3\n",
       "family_status                                                       \n",
       "divorced/widowed                  2504114        0        0        0\n",
       "living with parents and siblings        0   481447   458654   462551\n",
       "married                                 0  6822179  6858671  6894892\n",
       "single                            4820773        0        0        0"
      ]
     },
     "execution_count": 36,
     "metadata": {},
     "output_type": "execute_result"
    }
   ],
   "source": [
    "crossprofil"
   ]
  },
  {
   "cell_type": "code",
   "execution_count": 37,
   "id": "db45e42f",
   "metadata": {},
   "outputs": [
    {
     "data": {
      "text/plain": [
       "count    2.930328e+07\n",
       "mean     4.946594e+01\n",
       "std      1.848512e+01\n",
       "min      1.800000e+01\n",
       "25%      3.300000e+01\n",
       "50%      4.900000e+01\n",
       "75%      6.500000e+01\n",
       "max      8.100000e+01\n",
       "Name: age, dtype: float64"
      ]
     },
     "execution_count": 37,
     "metadata": {},
     "output_type": "execute_result"
    }
   ],
   "source": [
    "df_2['age'].describe()"
   ]
  },
  {
   "cell_type": "code",
   "execution_count": 38,
   "id": "1ff9b3ba",
   "metadata": {},
   "outputs": [
    {
     "data": {
      "text/plain": [
       "Text(0.5, 1.0, 'Income Distribution Among Instacart Users')"
      ]
     },
     "execution_count": 38,
     "metadata": {},
     "output_type": "execute_result"
    },
    {
     "data": {
      "image/png": "[encoded data removed]",
      "text/plain": [
       "<Figure size 640x480 with 1 Axes>"
      ]
     },
     "metadata": {},
     "output_type": "display_data"
    }
   ],
   "source": [
    "# creating histogram of incomes to see distribution\n",
    "\n",
    "hist1 = df_2['income'].plot.hist(bins = 25, rwidth=0.9)\n",
    "\n",
    "plt.xlabel(\"Family Income\")\n",
    "plt.ylabel(\"Frequency (in millions)\")\n",
    "plt.title(\"Income Distribution Among Instacart Users\")"
   ]
  },
  {
   "cell_type": "code",
   "execution_count": 39,
   "id": "91864d3c",
   "metadata": {},
   "outputs": [],
   "source": [
    "# exporting histogram\n",
    "hist1.figure.savefig(os.path.join(path, '04 Analysis', 'Visualizations', 'hist_customers_income.png'))"
   ]
  },
  {
   "cell_type": "markdown",
   "id": "33d6bf0f",
   "metadata": {},
   "source": [
    "#### Creating profile column"
   ]
  },
  {
   "cell_type": "code",
   "execution_count": 40,
   "id": "49e5788e",
   "metadata": {},
   "outputs": [],
   "source": [
    "# creating profile for \"single adult with money\"\n",
    "df_2.loc[(df_2['family_status'] == 'single') & (df_2['age'] >= 18), 'profile'] = 'single adult'"
   ]
  },
  {
   "cell_type": "code",
   "execution_count": 41,
   "id": "4a9dda51",
   "metadata": {},
   "outputs": [],
   "source": [
    "# creating profile for small families with high incomes (above $100,000)\n",
    "df_2.loc[(df_2['number_dependants'] == 1) & (df_2['income'] > 100000), 'profile'] = 'high-income small family'"
   ]
  },
  {
   "cell_type": "code",
   "execution_count": 42,
   "id": "115688d3",
   "metadata": {},
   "outputs": [],
   "source": [
    "# creating profile for medium families with high incomes (above $100,000)\n",
    "df_2.loc[(df_2['number_dependants'] == 2) & (df_2['income'] > 100000), 'profile'] = 'high-income medium family'"
   ]
  },
  {
   "cell_type": "code",
   "execution_count": 43,
   "id": "51cd7cb9",
   "metadata": {},
   "outputs": [],
   "source": [
    "# creating profile for big families with high incomes (above $100,000)\n",
    "df_2.loc[(df_2['number_dependants'] == 3) & (df_2['income'] > 100000), 'profile'] = 'high-income big family'"
   ]
  },
  {
   "cell_type": "code",
   "execution_count": 44,
   "id": "a4202275",
   "metadata": {},
   "outputs": [],
   "source": [
    "# creating profile for small families with low incomes (below $100,000)\n",
    "df_2.loc[(df_2['number_dependants'] == 1) & (df_2['income'] < 100000), 'profile'] = 'low-income small family'"
   ]
  },
  {
   "cell_type": "code",
   "execution_count": 45,
   "id": "28d4a94c",
   "metadata": {},
   "outputs": [],
   "source": [
    "# creating profile for medium families with low incomes (below $100,000)\n",
    "df_2.loc[(df_2['number_dependants'] == 2) & (df_2['income'] < 100000), 'profile'] = 'low-income medium family'"
   ]
  },
  {
   "cell_type": "code",
   "execution_count": 46,
   "id": "1673df0f",
   "metadata": {},
   "outputs": [],
   "source": [
    "# creating profile for big families with low incomes (below $100,000)\n",
    "df_2.loc[(df_2['number_dependants'] == 3) & (df_2['income'] < 100000), 'profile'] = 'low-income big family'"
   ]
  },
  {
   "cell_type": "code",
   "execution_count": 47,
   "id": "10b6097b",
   "metadata": {},
   "outputs": [],
   "source": [
    "# creating profile for \"babies at home\"  (department = 18 = babies)\n",
    "df_2.loc[(df_2['number_dependants'] > 0) & (df_2['department_id'] == 18), 'profile'] = 'babies at home'"
   ]
  },
  {
   "cell_type": "code",
   "execution_count": 48,
   "id": "8147a9bc",
   "metadata": {},
   "outputs": [],
   "source": [
    "# creating profile for \"employees\" (department = 14 = breakfast)\n",
    "df_2.loc[(df_2['order_hour_of_day'] < 12)  & (df_2['department_id'] == 14) & (df_2['age'] > 30) & (df_2['income'] > 30000), 'profile'] = 'employees'"
   ]
  },
  {
   "cell_type": "code",
   "execution_count": 49,
   "id": "14bca338",
   "metadata": {},
   "outputs": [],
   "source": [
    "# creating profile for \"retired wealthy\" \n",
    "df_2.loc[(df_2['age'] >= 65) & (df_2['income'] > 100000), 'profile'] = 'retired wealthy'"
   ]
  },
  {
   "cell_type": "code",
   "execution_count": 50,
   "id": "b45f95c5",
   "metadata": {},
   "outputs": [],
   "source": [
    "# creating profile for \"retired less money\" \n",
    "df_2.loc[(df_2['age'] < 65) & (df_2['income'] < 100000), 'profile'] = 'retired less money'"
   ]
  },
  {
   "cell_type": "code",
   "execution_count": 51,
   "id": "4addfa9f",
   "metadata": {},
   "outputs": [],
   "source": [
    "# labelling everyone else as \"other\"\n",
    "df_2['profile'] = df_2['profile'].fillna('other')"
   ]
  },
  {
   "cell_type": "code",
   "execution_count": 52,
   "id": "b72be6c5",
   "metadata": {},
   "outputs": [
    {
     "data": {
      "text/plain": [
       "retired less money           13532457\n",
       "retired wealthy               5434954\n",
       "high-income big family        1970262\n",
       "high-income small family      1963996\n",
       "high-income medium family     1915637\n",
       "single adult                  1619773\n",
       "other                          964787\n",
       "low-income medium family       581930\n",
       "low-income small family        576689\n",
       "low-income big family          555939\n",
       "babies at home                 105813\n",
       "employees                       81044\n",
       "Name: profile, dtype: int64"
      ]
     },
     "execution_count": 52,
     "metadata": {},
     "output_type": "execute_result"
    }
   ],
   "source": [
    "df_2['profile'].value_counts(dropna = False)"
   ]
  },
  {
   "cell_type": "markdown",
   "id": "d6ba46da",
   "metadata": {},
   "source": [
    "### 6. Visualizing \"profile\" distribution"
   ]
  },
  {
   "cell_type": "code",
   "execution_count": 53,
   "id": "ed250f4d",
   "metadata": {},
   "outputs": [
    {
     "data": {
      "text/plain": [
       "([<matplotlib.axis.XTick at 0x7f8c508c00d0>,\n",
       "  <matplotlib.axis.XTick at 0x7f8c508c00a0>,\n",
       "  <matplotlib.axis.XTick at 0x7f8c508982b0>,\n",
       "  <matplotlib.axis.XTick at 0x7f878bacf2b0>,\n",
       "  <matplotlib.axis.XTick at 0x7f878bacfa00>,\n",
       "  <matplotlib.axis.XTick at 0x7f878bac8190>,\n",
       "  <matplotlib.axis.XTick at 0x7f878bacfdc0>,\n",
       "  <matplotlib.axis.XTick at 0x7f878bac8a60>,\n",
       "  <matplotlib.axis.XTick at 0x7f8c508bcf40>,\n",
       "  <matplotlib.axis.XTick at 0x7f878baf2610>,\n",
       "  <matplotlib.axis.XTick at 0x7f878baf2d60>,\n",
       "  <matplotlib.axis.XTick at 0x7f878baee4f0>],\n",
       " [Text(0, 0, 'retired\\nless money'),\n",
       "  Text(1, 0, 'retired\\nwealthy'),\n",
       "  Text(2, 0, 'high-income\\nbig family'),\n",
       "  Text(3, 0, 'high-income\\nsmall family '),\n",
       "  Text(4, 0, 'high-income\\nmedium family'),\n",
       "  Text(5, 0, 'single adult'),\n",
       "  Text(6, 0, 'other'),\n",
       "  Text(7, 0, 'low-income\\nmedium family '),\n",
       "  Text(8, 0, 'low-income\\nsmall family '),\n",
       "  Text(9, 0, 'low-income\\nbig family'),\n",
       "  Text(10, 0, 'babies\\nat home '),\n",
       "  Text(11, 0, 'employees')])"
      ]
     },
     "execution_count": 53,
     "metadata": {},
     "output_type": "execute_result"
    },
    {
     "data": {
      "image/png": "[encoded data removed]",
      "text/plain": [
       "<Figure size 1000x500 with 1 Axes>"
      ]
     },
     "metadata": {},
     "output_type": "display_data"
    }
   ],
   "source": [
    "# creating a bar chart of instacart profiles\n",
    "\n",
    "bar = df_2['profile'].value_counts().plot.bar(rot=45, figsize = (10,5))\n",
    "plt.ylabel(\"Instacart customers (in tens of millions)\")\n",
    "plt.title (\"Instacart customer profiles\")\n",
    "plt.xticks([0,1,2,3,4,5,6,7,8,9,10,11],['retired\\nless money','retired\\nwealthy','high-income\\nbig family', 'high-income\\nsmall family ', 'high-income\\nmedium family','single adult','other','low-income\\nmedium family ','low-income\\nsmall family ','low-income\\nbig family','babies\\nat home ','employees'])\n"
   ]
  },
  {
   "cell_type": "code",
   "execution_count": 54,
   "id": "046adabe",
   "metadata": {},
   "outputs": [],
   "source": [
    "bar.figure.savefig(os.path.join(path, '04 Analysis', 'Visualizations', 'customer_profiles.png'), bbox_inches='tight')"
   ]
  },
  {
   "cell_type": "markdown",
   "id": "ae32e696",
   "metadata": {},
   "source": [
    "### 7. Looking for insights through the customer \"profile\" groups"
   ]
  },
  {
   "cell_type": "code",
   "execution_count": 55,
   "id": "2f9bc142",
   "metadata": {},
   "outputs": [
    {
     "name": "stdout",
     "output_type": "stream",
     "text": [
      "                            order_id user_id  order_number  \\\n",
      "profile                                                      \n",
      "babies at home             2933894.0   84092           5.0   \n",
      "employees                   289457.0  178520           5.0   \n",
      "high-income big family     1564244.0  108187           3.0   \n",
      "high-income medium family   604218.0  175294           4.0   \n",
      "high-income small family    653887.0  132022           5.0   \n",
      "low-income big family       384383.0  140440           2.0   \n",
      "low-income medium family   1037729.0   74315           2.0   \n",
      "low-income small family    1321070.0   17738           5.0   \n",
      "other                      2660847.0  176478           4.0   \n",
      "retired less money          790903.0  129928           3.0   \n",
      "retired wealthy            2716231.0  201268           2.0   \n",
      "single adult               1737192.0   13701           4.0   \n",
      "\n",
      "                           orders_day_of_week  order_hour_of_day  \\\n",
      "profile                                                            \n",
      "babies at home                            0.0                9.0   \n",
      "employees                                 1.0               10.0   \n",
      "high-income big family                    0.0               14.0   \n",
      "high-income medium family                 0.0               13.0   \n",
      "high-income small family                  0.0               15.0   \n",
      "low-income big family                     1.0               10.0   \n",
      "low-income medium family                  1.0               10.0   \n",
      "low-income small family                   1.0               10.0   \n",
      "other                                     0.0               10.0   \n",
      "retired less money                        0.0               10.0   \n",
      "retired wealthy                           0.0               10.0   \n",
      "single adult                              0.0               14.0   \n",
      "\n",
      "                           days_since_prior_order  product_id  \\\n",
      "profile                                                         \n",
      "babies at home                                7.0     43875.0   \n",
      "employees                                     7.0     41844.0   \n",
      "high-income big family                        7.0     24852.0   \n",
      "high-income medium family                     7.0     24852.0   \n",
      "high-income small family                      7.0     24852.0   \n",
      "low-income big family                         7.0     24852.0   \n",
      "low-income medium family                      7.0     24852.0   \n",
      "low-income small family                       7.0     24852.0   \n",
      "other                                         7.0     24852.0   \n",
      "retired less money                            7.0     24852.0   \n",
      "retired wealthy                               7.0     24852.0   \n",
      "single adult                                  7.0     24852.0   \n",
      "\n",
      "                           add_to_cart_order  reordered  \\\n",
      "profile                                                   \n",
      "babies at home                           4.0        1.0   \n",
      "employees                                2.0        1.0   \n",
      "high-income big family                   1.0        1.0   \n",
      "high-income medium family                1.0        1.0   \n",
      "high-income small family                 1.0        1.0   \n",
      "low-income big family                    1.0        1.0   \n",
      "low-income medium family                 1.0        1.0   \n",
      "low-income small family                  1.0        1.0   \n",
      "other                                    1.0        1.0   \n",
      "retired less money                       1.0        1.0   \n",
      "retired wealthy                          1.0        1.0   \n",
      "single adult                             1.0        1.0   \n",
      "\n",
      "                                                               product_name  \\\n",
      "profile                                                                       \n",
      "babies at home             Baby Food Stage 2 Blueberry Pear & Purple Carrot   \n",
      "employees                                                Honey Nut Cheerios   \n",
      "high-income big family                                               Banana   \n",
      "high-income medium family                                            Banana   \n",
      "high-income small family                                             Banana   \n",
      "low-income big family                                                Banana   \n",
      "low-income medium family                                             Banana   \n",
      "low-income small family                                              Banana   \n",
      "other                                                                Banana   \n",
      "retired less money                                                   Banana   \n",
      "retired wealthy                                                      Banana   \n",
      "single adult                                                         Banana   \n",
      "\n",
      "                           ...  order_frequency_flag  gender          state  \\\n",
      "profile                    ...                                                \n",
      "babies at home             ...     Frequent customer    Male        Vermont   \n",
      "employees                  ...     Frequent customer  Female           Ohio   \n",
      "high-income big family     ...     Frequent customer  Female        Arizona   \n",
      "high-income medium family  ...     Frequent customer    Male        Wyoming   \n",
      "high-income small family   ...     Frequent customer    Male  Massachusetts   \n",
      "low-income big family      ...     Frequent customer    Male         Alaska   \n",
      "low-income medium family   ...     Frequent customer  Female       Maryland   \n",
      "low-income small family    ...     Frequent customer    Male  Massachusetts   \n",
      "other                      ...     Frequent customer  Female           Ohio   \n",
      "retired less money         ...     Frequent customer    Male   Pennsylvania   \n",
      "retired wealthy            ...     Frequent customer    Male        Montana   \n",
      "single adult               ...     Frequent customer    Male        Arizona   \n",
      "\n",
      "                          age date_joined number_dependants     family_status  \\\n",
      "profile                                                                         \n",
      "babies at home             51   4/20/2018                 2           married   \n",
      "employees                  56   8/16/2019                 1           married   \n",
      "high-income big family     51   11/5/2019                 3           married   \n",
      "high-income medium family  44   2/20/2019                 2           married   \n",
      "high-income small family   42  12/17/2018                 1           married   \n",
      "low-income big family      80    5/7/2017                 3           married   \n",
      "low-income medium family   68   1/20/2018                 2           married   \n",
      "low-income small family    79   1/15/2019                 1           married   \n",
      "other                      64   1/30/2017                 0  divorced/widowed   \n",
      "retired less money         31   7/28/2018                 3           married   \n",
      "retired wealthy            68    6/8/2019                 2           married   \n",
      "single adult               49    9/6/2017                 0            single   \n",
      "\n",
      "                           income  region exclusion flag  \n",
      "profile                                                   \n",
      "babies at home             118074   South  high-activity  \n",
      "employees                   76976   South  high-activity  \n",
      "high-income big family     109407   South  high-activity  \n",
      "high-income medium family  143713   South  high-activity  \n",
      "high-income small family   142621   South  high-activity  \n",
      "low-income big family       44048   South  high-activity  \n",
      "low-income medium family    77766   South  high-activity  \n",
      "low-income small family     37788   South  high-activity  \n",
      "other                      138180   South  high-activity  \n",
      "retired less money          57501   South  high-activity  \n",
      "retired wealthy            112610   South  high-activity  \n",
      "single adult               108453   South  high-activity  \n",
      "\n",
      "[12 rows x 33 columns]\n"
     ]
    }
   ],
   "source": [
    "# Calculating the mode to see most usual values per column\n",
    "print(df_2.groupby('profile').agg(lambda x:x.value_counts().index[0]))"
   ]
  },
  {
   "cell_type": "markdown",
   "id": "de109315",
   "metadata": {},
   "source": [
    "#### From this calculation we found some interesting information:\n",
    "\n",
    "1. Most customers buy between 9 to 14 o'clock\n",
    "2. Usually they buy products every 7 days\n",
    "3. The most common days for the customers to buy are saturday and sunday"
   ]
  },
  {
   "cell_type": "code",
   "execution_count": 56,
   "id": "23bc474e",
   "metadata": {},
   "outputs": [
    {
     "data": {
      "text/html": [
       "<div>\n",
       "<style scoped>\n",
       "    .dataframe tbody tr th:only-of-type {\n",
       "        vertical-align: middle;\n",
       "    }\n",
       "\n",
       "    .dataframe tbody tr th {\n",
       "        vertical-align: top;\n",
       "    }\n",
       "\n",
       "    .dataframe thead tr th {\n",
       "        text-align: left;\n",
       "    }\n",
       "\n",
       "    .dataframe thead tr:last-of-type th {\n",
       "        text-align: right;\n",
       "    }\n",
       "</style>\n",
       "<table border=\"1\" class=\"dataframe\">\n",
       "  <thead>\n",
       "    <tr>\n",
       "      <th></th>\n",
       "      <th colspan=\"3\" halign=\"left\">prices</th>\n",
       "      <th colspan=\"3\" halign=\"left\">days_since_prior_order</th>\n",
       "    </tr>\n",
       "    <tr>\n",
       "      <th></th>\n",
       "      <th>mean</th>\n",
       "      <th>min</th>\n",
       "      <th>max</th>\n",
       "      <th>mean</th>\n",
       "      <th>min</th>\n",
       "      <th>max</th>\n",
       "    </tr>\n",
       "    <tr>\n",
       "      <th>profile</th>\n",
       "      <th></th>\n",
       "      <th></th>\n",
       "      <th></th>\n",
       "      <th></th>\n",
       "      <th></th>\n",
       "      <th></th>\n",
       "    </tr>\n",
       "  </thead>\n",
       "  <tbody>\n",
       "    <tr>\n",
       "      <th>babies at home</th>\n",
       "      <td>7.644531</td>\n",
       "      <td>1.0</td>\n",
       "      <td>15.000000</td>\n",
       "      <td>9.687500</td>\n",
       "      <td>0.0</td>\n",
       "      <td>30.0</td>\n",
       "    </tr>\n",
       "    <tr>\n",
       "      <th>employees</th>\n",
       "      <td>8.046875</td>\n",
       "      <td>1.0</td>\n",
       "      <td>14.898438</td>\n",
       "      <td>10.804688</td>\n",
       "      <td>0.0</td>\n",
       "      <td>30.0</td>\n",
       "    </tr>\n",
       "    <tr>\n",
       "      <th>high-income big family</th>\n",
       "      <td>7.953125</td>\n",
       "      <td>1.0</td>\n",
       "      <td>25.000000</td>\n",
       "      <td>10.843750</td>\n",
       "      <td>0.0</td>\n",
       "      <td>30.0</td>\n",
       "    </tr>\n",
       "    <tr>\n",
       "      <th>high-income medium family</th>\n",
       "      <td>7.957031</td>\n",
       "      <td>1.0</td>\n",
       "      <td>25.000000</td>\n",
       "      <td>10.875000</td>\n",
       "      <td>0.0</td>\n",
       "      <td>30.0</td>\n",
       "    </tr>\n",
       "    <tr>\n",
       "      <th>high-income small family</th>\n",
       "      <td>7.953125</td>\n",
       "      <td>1.0</td>\n",
       "      <td>25.000000</td>\n",
       "      <td>10.796875</td>\n",
       "      <td>0.0</td>\n",
       "      <td>30.0</td>\n",
       "    </tr>\n",
       "    <tr>\n",
       "      <th>low-income big family</th>\n",
       "      <td>7.406250</td>\n",
       "      <td>1.0</td>\n",
       "      <td>25.000000</td>\n",
       "      <td>10.937500</td>\n",
       "      <td>0.0</td>\n",
       "      <td>30.0</td>\n",
       "    </tr>\n",
       "    <tr>\n",
       "      <th>low-income medium family</th>\n",
       "      <td>7.417969</td>\n",
       "      <td>1.0</td>\n",
       "      <td>25.000000</td>\n",
       "      <td>10.953125</td>\n",
       "      <td>0.0</td>\n",
       "      <td>30.0</td>\n",
       "    </tr>\n",
       "    <tr>\n",
       "      <th>low-income small family</th>\n",
       "      <td>7.429688</td>\n",
       "      <td>1.0</td>\n",
       "      <td>25.000000</td>\n",
       "      <td>10.773438</td>\n",
       "      <td>0.0</td>\n",
       "      <td>30.0</td>\n",
       "    </tr>\n",
       "    <tr>\n",
       "      <th>other</th>\n",
       "      <td>7.652344</td>\n",
       "      <td>1.0</td>\n",
       "      <td>25.000000</td>\n",
       "      <td>10.781250</td>\n",
       "      <td>0.0</td>\n",
       "      <td>30.0</td>\n",
       "    </tr>\n",
       "    <tr>\n",
       "      <th>retired less money</th>\n",
       "      <td>7.691406</td>\n",
       "      <td>1.0</td>\n",
       "      <td>25.000000</td>\n",
       "      <td>10.835938</td>\n",
       "      <td>0.0</td>\n",
       "      <td>30.0</td>\n",
       "    </tr>\n",
       "    <tr>\n",
       "      <th>retired wealthy</th>\n",
       "      <td>7.957031</td>\n",
       "      <td>1.0</td>\n",
       "      <td>25.000000</td>\n",
       "      <td>10.757812</td>\n",
       "      <td>0.0</td>\n",
       "      <td>30.0</td>\n",
       "    </tr>\n",
       "    <tr>\n",
       "      <th>single adult</th>\n",
       "      <td>7.945312</td>\n",
       "      <td>1.0</td>\n",
       "      <td>25.000000</td>\n",
       "      <td>10.664062</td>\n",
       "      <td>0.0</td>\n",
       "      <td>30.0</td>\n",
       "    </tr>\n",
       "  </tbody>\n",
       "</table>\n",
       "</div>"
      ],
      "text/plain": [
       "                             prices                 days_since_prior_order  \\\n",
       "                               mean  min        max                   mean   \n",
       "profile                                                                      \n",
       "babies at home             7.644531  1.0  15.000000               9.687500   \n",
       "employees                  8.046875  1.0  14.898438              10.804688   \n",
       "high-income big family     7.953125  1.0  25.000000              10.843750   \n",
       "high-income medium family  7.957031  1.0  25.000000              10.875000   \n",
       "high-income small family   7.953125  1.0  25.000000              10.796875   \n",
       "low-income big family      7.406250  1.0  25.000000              10.937500   \n",
       "low-income medium family   7.417969  1.0  25.000000              10.953125   \n",
       "low-income small family    7.429688  1.0  25.000000              10.773438   \n",
       "other                      7.652344  1.0  25.000000              10.781250   \n",
       "retired less money         7.691406  1.0  25.000000              10.835938   \n",
       "retired wealthy            7.957031  1.0  25.000000              10.757812   \n",
       "single adult               7.945312  1.0  25.000000              10.664062   \n",
       "\n",
       "                                      \n",
       "                           min   max  \n",
       "profile                               \n",
       "babies at home             0.0  30.0  \n",
       "employees                  0.0  30.0  \n",
       "high-income big family     0.0  30.0  \n",
       "high-income medium family  0.0  30.0  \n",
       "high-income small family   0.0  30.0  \n",
       "low-income big family      0.0  30.0  \n",
       "low-income medium family   0.0  30.0  \n",
       "low-income small family    0.0  30.0  \n",
       "other                      0.0  30.0  \n",
       "retired less money         0.0  30.0  \n",
       "retired wealthy            0.0  30.0  \n",
       "single adult               0.0  30.0  "
      ]
     },
     "execution_count": 56,
     "metadata": {},
     "output_type": "execute_result"
    }
   ],
   "source": [
    "# aggregating min, max, mean of prices and avg_days_since_last_order for all profiles\n",
    "df_2.groupby('profile').agg({'prices': ['mean', 'min', 'max'], 'days_since_prior_order': ['mean', 'min', 'max']})"
   ]
  },
  {
   "cell_type": "markdown",
   "id": "f9fb4fc7",
   "metadata": {},
   "source": [
    "### 8. Comparing customer profiles with regions and departments"
   ]
  },
  {
   "cell_type": "code",
   "execution_count": 57,
   "id": "cbc8a32b",
   "metadata": {},
   "outputs": [],
   "source": [
    "# creating a crosstab to compare different profiles by region\n",
    "crosstab_region = pd.crosstab(df_2['profile'], df_2['region'], dropna = False)"
   ]
  },
  {
   "cell_type": "code",
   "execution_count": 58,
   "id": "cca9811d",
   "metadata": {},
   "outputs": [
    {
     "data": {
      "text/html": [
       "<div>\n",
       "<style scoped>\n",
       "    .dataframe tbody tr th:only-of-type {\n",
       "        vertical-align: middle;\n",
       "    }\n",
       "\n",
       "    .dataframe tbody tr th {\n",
       "        vertical-align: top;\n",
       "    }\n",
       "\n",
       "    .dataframe thead th {\n",
       "        text-align: right;\n",
       "    }\n",
       "</style>\n",
       "<table border=\"1\" class=\"dataframe\">\n",
       "  <thead>\n",
       "    <tr style=\"text-align: right;\">\n",
       "      <th>region</th>\n",
       "      <th>Midwest</th>\n",
       "      <th>Northeast</th>\n",
       "      <th>South</th>\n",
       "      <th>West</th>\n",
       "    </tr>\n",
       "    <tr>\n",
       "      <th>profile</th>\n",
       "      <th></th>\n",
       "      <th></th>\n",
       "      <th></th>\n",
       "      <th></th>\n",
       "    </tr>\n",
       "  </thead>\n",
       "  <tbody>\n",
       "    <tr>\n",
       "      <th>babies at home</th>\n",
       "      <td>24458</td>\n",
       "      <td>18320</td>\n",
       "      <td>36241</td>\n",
       "      <td>26794</td>\n",
       "    </tr>\n",
       "    <tr>\n",
       "      <th>employees</th>\n",
       "      <td>19418</td>\n",
       "      <td>13806</td>\n",
       "      <td>26329</td>\n",
       "      <td>21491</td>\n",
       "    </tr>\n",
       "    <tr>\n",
       "      <th>high-income big family</th>\n",
       "      <td>470891</td>\n",
       "      <td>352045</td>\n",
       "      <td>636514</td>\n",
       "      <td>510812</td>\n",
       "    </tr>\n",
       "    <tr>\n",
       "      <th>high-income medium family</th>\n",
       "      <td>469533</td>\n",
       "      <td>342973</td>\n",
       "      <td>632724</td>\n",
       "      <td>470407</td>\n",
       "    </tr>\n",
       "    <tr>\n",
       "      <th>high-income small family</th>\n",
       "      <td>480959</td>\n",
       "      <td>352049</td>\n",
       "      <td>626135</td>\n",
       "      <td>504853</td>\n",
       "    </tr>\n",
       "    <tr>\n",
       "      <th>low-income big family</th>\n",
       "      <td>124346</td>\n",
       "      <td>96747</td>\n",
       "      <td>184781</td>\n",
       "      <td>150065</td>\n",
       "    </tr>\n",
       "    <tr>\n",
       "      <th>low-income medium family</th>\n",
       "      <td>126955</td>\n",
       "      <td>101282</td>\n",
       "      <td>197695</td>\n",
       "      <td>155998</td>\n",
       "    </tr>\n",
       "    <tr>\n",
       "      <th>low-income small family</th>\n",
       "      <td>131986</td>\n",
       "      <td>108718</td>\n",
       "      <td>190883</td>\n",
       "      <td>145102</td>\n",
       "    </tr>\n",
       "    <tr>\n",
       "      <th>other</th>\n",
       "      <td>238224</td>\n",
       "      <td>168729</td>\n",
       "      <td>323374</td>\n",
       "      <td>234460</td>\n",
       "    </tr>\n",
       "    <tr>\n",
       "      <th>retired less money</th>\n",
       "      <td>3115487</td>\n",
       "      <td>2372629</td>\n",
       "      <td>4572916</td>\n",
       "      <td>3471425</td>\n",
       "    </tr>\n",
       "    <tr>\n",
       "      <th>retired wealthy</th>\n",
       "      <td>1265766</td>\n",
       "      <td>988929</td>\n",
       "      <td>1791513</td>\n",
       "      <td>1388746</td>\n",
       "    </tr>\n",
       "    <tr>\n",
       "      <th>single adult</th>\n",
       "      <td>400396</td>\n",
       "      <td>256634</td>\n",
       "      <td>537768</td>\n",
       "      <td>424975</td>\n",
       "    </tr>\n",
       "  </tbody>\n",
       "</table>\n",
       "</div>"
      ],
      "text/plain": [
       "region                     Midwest  Northeast    South     West\n",
       "profile                                                        \n",
       "babies at home               24458      18320    36241    26794\n",
       "employees                    19418      13806    26329    21491\n",
       "high-income big family      470891     352045   636514   510812\n",
       "high-income medium family   469533     342973   632724   470407\n",
       "high-income small family    480959     352049   626135   504853\n",
       "low-income big family       124346      96747   184781   150065\n",
       "low-income medium family    126955     101282   197695   155998\n",
       "low-income small family     131986     108718   190883   145102\n",
       "other                       238224     168729   323374   234460\n",
       "retired less money         3115487    2372629  4572916  3471425\n",
       "retired wealthy            1265766     988929  1791513  1388746\n",
       "single adult                400396     256634   537768   424975"
      ]
     },
     "execution_count": 58,
     "metadata": {},
     "output_type": "execute_result"
    }
   ],
   "source": [
    "crosstab_region"
   ]
  },
  {
   "cell_type": "code",
   "execution_count": 59,
   "id": "cd7d5da4",
   "metadata": {},
   "outputs": [],
   "source": [
    "# creating a crosstab to compare different profiles by department\n",
    "crosstab_department = pd.crosstab(df_2['profile'], df_2['department_id'], dropna = False)"
   ]
  },
  {
   "cell_type": "code",
   "execution_count": 60,
   "id": "771f01ec",
   "metadata": {},
   "outputs": [
    {
     "data": {
      "text/html": [
       "<div>\n",
       "<style scoped>\n",
       "    .dataframe tbody tr th:only-of-type {\n",
       "        vertical-align: middle;\n",
       "    }\n",
       "\n",
       "    .dataframe tbody tr th {\n",
       "        vertical-align: top;\n",
       "    }\n",
       "\n",
       "    .dataframe thead th {\n",
       "        text-align: right;\n",
       "    }\n",
       "</style>\n",
       "<table border=\"1\" class=\"dataframe\">\n",
       "  <thead>\n",
       "    <tr style=\"text-align: right;\">\n",
       "      <th>department_id</th>\n",
       "      <th>1.0</th>\n",
       "      <th>2.0</th>\n",
       "      <th>3.0</th>\n",
       "      <th>4.0</th>\n",
       "      <th>5.0</th>\n",
       "      <th>6.0</th>\n",
       "      <th>7.0</th>\n",
       "      <th>8.0</th>\n",
       "      <th>9.0</th>\n",
       "      <th>10.0</th>\n",
       "      <th>...</th>\n",
       "      <th>12.0</th>\n",
       "      <th>13.0</th>\n",
       "      <th>14.0</th>\n",
       "      <th>15.0</th>\n",
       "      <th>16.0</th>\n",
       "      <th>17.0</th>\n",
       "      <th>18.0</th>\n",
       "      <th>19.0</th>\n",
       "      <th>20.0</th>\n",
       "      <th>21.0</th>\n",
       "    </tr>\n",
       "    <tr>\n",
       "      <th>profile</th>\n",
       "      <th></th>\n",
       "      <th></th>\n",
       "      <th></th>\n",
       "      <th></th>\n",
       "      <th></th>\n",
       "      <th></th>\n",
       "      <th></th>\n",
       "      <th></th>\n",
       "      <th></th>\n",
       "      <th></th>\n",
       "      <th></th>\n",
       "      <th></th>\n",
       "      <th></th>\n",
       "      <th></th>\n",
       "      <th></th>\n",
       "      <th></th>\n",
       "      <th></th>\n",
       "      <th></th>\n",
       "      <th></th>\n",
       "      <th></th>\n",
       "      <th></th>\n",
       "    </tr>\n",
       "  </thead>\n",
       "  <tbody>\n",
       "    <tr>\n",
       "      <th>babies at home</th>\n",
       "      <td>0</td>\n",
       "      <td>0</td>\n",
       "      <td>0</td>\n",
       "      <td>0</td>\n",
       "      <td>0</td>\n",
       "      <td>0</td>\n",
       "      <td>0</td>\n",
       "      <td>0</td>\n",
       "      <td>0</td>\n",
       "      <td>0</td>\n",
       "      <td>...</td>\n",
       "      <td>0</td>\n",
       "      <td>0</td>\n",
       "      <td>0</td>\n",
       "      <td>0</td>\n",
       "      <td>0</td>\n",
       "      <td>0</td>\n",
       "      <td>105813</td>\n",
       "      <td>0</td>\n",
       "      <td>0</td>\n",
       "      <td>0</td>\n",
       "    </tr>\n",
       "    <tr>\n",
       "      <th>employees</th>\n",
       "      <td>0</td>\n",
       "      <td>0</td>\n",
       "      <td>0</td>\n",
       "      <td>0</td>\n",
       "      <td>0</td>\n",
       "      <td>0</td>\n",
       "      <td>0</td>\n",
       "      <td>0</td>\n",
       "      <td>0</td>\n",
       "      <td>0</td>\n",
       "      <td>...</td>\n",
       "      <td>0</td>\n",
       "      <td>0</td>\n",
       "      <td>81044</td>\n",
       "      <td>0</td>\n",
       "      <td>0</td>\n",
       "      <td>0</td>\n",
       "      <td>0</td>\n",
       "      <td>0</td>\n",
       "      <td>0</td>\n",
       "      <td>0</td>\n",
       "    </tr>\n",
       "    <tr>\n",
       "      <th>high-income big family</th>\n",
       "      <td>139614</td>\n",
       "      <td>2295</td>\n",
       "      <td>73979</td>\n",
       "      <td>602956</td>\n",
       "      <td>10178</td>\n",
       "      <td>16819</td>\n",
       "      <td>159164</td>\n",
       "      <td>7069</td>\n",
       "      <td>55750</td>\n",
       "      <td>1803</td>\n",
       "      <td>...</td>\n",
       "      <td>47738</td>\n",
       "      <td>117812</td>\n",
       "      <td>26861</td>\n",
       "      <td>68697</td>\n",
       "      <td>341518</td>\n",
       "      <td>45652</td>\n",
       "      <td>0</td>\n",
       "      <td>155717</td>\n",
       "      <td>64699</td>\n",
       "      <td>4111</td>\n",
       "    </tr>\n",
       "    <tr>\n",
       "      <th>high-income medium family</th>\n",
       "      <td>136596</td>\n",
       "      <td>2081</td>\n",
       "      <td>74296</td>\n",
       "      <td>576703</td>\n",
       "      <td>9640</td>\n",
       "      <td>16318</td>\n",
       "      <td>156919</td>\n",
       "      <td>5601</td>\n",
       "      <td>53927</td>\n",
       "      <td>1914</td>\n",
       "      <td>...</td>\n",
       "      <td>46724</td>\n",
       "      <td>116528</td>\n",
       "      <td>26226</td>\n",
       "      <td>67022</td>\n",
       "      <td>333175</td>\n",
       "      <td>44663</td>\n",
       "      <td>0</td>\n",
       "      <td>151675</td>\n",
       "      <td>64351</td>\n",
       "      <td>4237</td>\n",
       "    </tr>\n",
       "    <tr>\n",
       "      <th>high-income small family</th>\n",
       "      <td>138620</td>\n",
       "      <td>2248</td>\n",
       "      <td>73811</td>\n",
       "      <td>599863</td>\n",
       "      <td>9781</td>\n",
       "      <td>17043</td>\n",
       "      <td>159037</td>\n",
       "      <td>5822</td>\n",
       "      <td>54826</td>\n",
       "      <td>2200</td>\n",
       "      <td>...</td>\n",
       "      <td>47600</td>\n",
       "      <td>119228</td>\n",
       "      <td>27406</td>\n",
       "      <td>68894</td>\n",
       "      <td>340335</td>\n",
       "      <td>45644</td>\n",
       "      <td>0</td>\n",
       "      <td>156258</td>\n",
       "      <td>63200</td>\n",
       "      <td>4589</td>\n",
       "    </tr>\n",
       "    <tr>\n",
       "      <th>low-income big family</th>\n",
       "      <td>36475</td>\n",
       "      <td>512</td>\n",
       "      <td>19279</td>\n",
       "      <td>161794</td>\n",
       "      <td>2403</td>\n",
       "      <td>4133</td>\n",
       "      <td>53611</td>\n",
       "      <td>1435</td>\n",
       "      <td>13111</td>\n",
       "      <td>835</td>\n",
       "      <td>...</td>\n",
       "      <td>10215</td>\n",
       "      <td>30516</td>\n",
       "      <td>7948</td>\n",
       "      <td>16400</td>\n",
       "      <td>90742</td>\n",
       "      <td>13400</td>\n",
       "      <td>0</td>\n",
       "      <td>66292</td>\n",
       "      <td>18092</td>\n",
       "      <td>1177</td>\n",
       "    </tr>\n",
       "    <tr>\n",
       "      <th>low-income medium family</th>\n",
       "      <td>39903</td>\n",
       "      <td>641</td>\n",
       "      <td>20455</td>\n",
       "      <td>168569</td>\n",
       "      <td>2551</td>\n",
       "      <td>4656</td>\n",
       "      <td>54781</td>\n",
       "      <td>1278</td>\n",
       "      <td>14476</td>\n",
       "      <td>700</td>\n",
       "      <td>...</td>\n",
       "      <td>10810</td>\n",
       "      <td>33015</td>\n",
       "      <td>8436</td>\n",
       "      <td>17804</td>\n",
       "      <td>94950</td>\n",
       "      <td>13804</td>\n",
       "      <td>0</td>\n",
       "      <td>66933</td>\n",
       "      <td>18647</td>\n",
       "      <td>1304</td>\n",
       "    </tr>\n",
       "    <tr>\n",
       "      <th>low-income small family</th>\n",
       "      <td>39204</td>\n",
       "      <td>713</td>\n",
       "      <td>20614</td>\n",
       "      <td>165087</td>\n",
       "      <td>2719</td>\n",
       "      <td>4632</td>\n",
       "      <td>56399</td>\n",
       "      <td>1751</td>\n",
       "      <td>13469</td>\n",
       "      <td>693</td>\n",
       "      <td>...</td>\n",
       "      <td>10920</td>\n",
       "      <td>32281</td>\n",
       "      <td>8513</td>\n",
       "      <td>16682</td>\n",
       "      <td>94447</td>\n",
       "      <td>14683</td>\n",
       "      <td>0</td>\n",
       "      <td>66528</td>\n",
       "      <td>18370</td>\n",
       "      <td>1101</td>\n",
       "    </tr>\n",
       "    <tr>\n",
       "      <th>other</th>\n",
       "      <td>66768</td>\n",
       "      <td>1091</td>\n",
       "      <td>35463</td>\n",
       "      <td>277680</td>\n",
       "      <td>4283</td>\n",
       "      <td>7737</td>\n",
       "      <td>85094</td>\n",
       "      <td>2500</td>\n",
       "      <td>24692</td>\n",
       "      <td>1069</td>\n",
       "      <td>...</td>\n",
       "      <td>19640</td>\n",
       "      <td>54156</td>\n",
       "      <td>13638</td>\n",
       "      <td>29585</td>\n",
       "      <td>162595</td>\n",
       "      <td>21410</td>\n",
       "      <td>13579</td>\n",
       "      <td>96135</td>\n",
       "      <td>32096</td>\n",
       "      <td>2056</td>\n",
       "    </tr>\n",
       "    <tr>\n",
       "      <th>retired less money</th>\n",
       "      <td>910401</td>\n",
       "      <td>15169</td>\n",
       "      <td>481147</td>\n",
       "      <td>3937575</td>\n",
       "      <td>59981</td>\n",
       "      <td>110256</td>\n",
       "      <td>1151479</td>\n",
       "      <td>39000</td>\n",
       "      <td>349204</td>\n",
       "      <td>15485</td>\n",
       "      <td>...</td>\n",
       "      <td>277701</td>\n",
       "      <td>762614</td>\n",
       "      <td>299196</td>\n",
       "      <td>428897</td>\n",
       "      <td>2252858</td>\n",
       "      <td>302739</td>\n",
       "      <td>176088</td>\n",
       "      <td>1309244</td>\n",
       "      <td>438033</td>\n",
       "      <td>29655</td>\n",
       "    </tr>\n",
       "    <tr>\n",
       "      <th>retired wealthy</th>\n",
       "      <td>376302</td>\n",
       "      <td>5977</td>\n",
       "      <td>199970</td>\n",
       "      <td>1630517</td>\n",
       "      <td>24117</td>\n",
       "      <td>45611</td>\n",
       "      <td>430591</td>\n",
       "      <td>17753</td>\n",
       "      <td>149795</td>\n",
       "      <td>5675</td>\n",
       "      <td>...</td>\n",
       "      <td>128661</td>\n",
       "      <td>319425</td>\n",
       "      <td>112005</td>\n",
       "      <td>184550</td>\n",
       "      <td>922317</td>\n",
       "      <td>120824</td>\n",
       "      <td>73373</td>\n",
       "      <td>425829</td>\n",
       "      <td>177315</td>\n",
       "      <td>11638</td>\n",
       "    </tr>\n",
       "    <tr>\n",
       "      <th>single adult</th>\n",
       "      <td>112561</td>\n",
       "      <td>1845</td>\n",
       "      <td>61598</td>\n",
       "      <td>487957</td>\n",
       "      <td>9214</td>\n",
       "      <td>13664</td>\n",
       "      <td>130511</td>\n",
       "      <td>5596</td>\n",
       "      <td>44743</td>\n",
       "      <td>1624</td>\n",
       "      <td>...</td>\n",
       "      <td>37267</td>\n",
       "      <td>95816</td>\n",
       "      <td>22196</td>\n",
       "      <td>55918</td>\n",
       "      <td>276416</td>\n",
       "      <td>36156</td>\n",
       "      <td>22854</td>\n",
       "      <td>125922</td>\n",
       "      <td>52750</td>\n",
       "      <td>3521</td>\n",
       "    </tr>\n",
       "  </tbody>\n",
       "</table>\n",
       "<p>12 rows × 21 columns</p>\n",
       "</div>"
      ],
      "text/plain": [
       "department_id                1.0    2.0     3.0      4.0    5.0     6.0   \\\n",
       "profile                                                                    \n",
       "babies at home                  0      0       0        0      0       0   \n",
       "employees                       0      0       0        0      0       0   \n",
       "high-income big family     139614   2295   73979   602956  10178   16819   \n",
       "high-income medium family  136596   2081   74296   576703   9640   16318   \n",
       "high-income small family   138620   2248   73811   599863   9781   17043   \n",
       "low-income big family       36475    512   19279   161794   2403    4133   \n",
       "low-income medium family    39903    641   20455   168569   2551    4656   \n",
       "low-income small family     39204    713   20614   165087   2719    4632   \n",
       "other                       66768   1091   35463   277680   4283    7737   \n",
       "retired less money         910401  15169  481147  3937575  59981  110256   \n",
       "retired wealthy            376302   5977  199970  1630517  24117   45611   \n",
       "single adult               112561   1845   61598   487957   9214   13664   \n",
       "\n",
       "department_id                 7.0    8.0     9.0    10.0  ...    12.0    13.0  \\\n",
       "profile                                                   ...                   \n",
       "babies at home                   0      0       0      0  ...       0       0   \n",
       "employees                        0      0       0      0  ...       0       0   \n",
       "high-income big family      159164   7069   55750   1803  ...   47738  117812   \n",
       "high-income medium family   156919   5601   53927   1914  ...   46724  116528   \n",
       "high-income small family    159037   5822   54826   2200  ...   47600  119228   \n",
       "low-income big family        53611   1435   13111    835  ...   10215   30516   \n",
       "low-income medium family     54781   1278   14476    700  ...   10810   33015   \n",
       "low-income small family      56399   1751   13469    693  ...   10920   32281   \n",
       "other                        85094   2500   24692   1069  ...   19640   54156   \n",
       "retired less money         1151479  39000  349204  15485  ...  277701  762614   \n",
       "retired wealthy             430591  17753  149795   5675  ...  128661  319425   \n",
       "single adult                130511   5596   44743   1624  ...   37267   95816   \n",
       "\n",
       "department_id                14.0    15.0     16.0    17.0    18.0     19.0  \\\n",
       "profile                                                                       \n",
       "babies at home                  0       0        0       0  105813        0   \n",
       "employees                   81044       0        0       0       0        0   \n",
       "high-income big family      26861   68697   341518   45652       0   155717   \n",
       "high-income medium family   26226   67022   333175   44663       0   151675   \n",
       "high-income small family    27406   68894   340335   45644       0   156258   \n",
       "low-income big family        7948   16400    90742   13400       0    66292   \n",
       "low-income medium family     8436   17804    94950   13804       0    66933   \n",
       "low-income small family      8513   16682    94447   14683       0    66528   \n",
       "other                       13638   29585   162595   21410   13579    96135   \n",
       "retired less money         299196  428897  2252858  302739  176088  1309244   \n",
       "retired wealthy            112005  184550   922317  120824   73373   425829   \n",
       "single adult                22196   55918   276416   36156   22854   125922   \n",
       "\n",
       "department_id                20.0   21.0  \n",
       "profile                                   \n",
       "babies at home                  0      0  \n",
       "employees                       0      0  \n",
       "high-income big family      64699   4111  \n",
       "high-income medium family   64351   4237  \n",
       "high-income small family    63200   4589  \n",
       "low-income big family       18092   1177  \n",
       "low-income medium family    18647   1304  \n",
       "low-income small family     18370   1101  \n",
       "other                       32096   2056  \n",
       "retired less money         438033  29655  \n",
       "retired wealthy            177315  11638  \n",
       "single adult                52750   3521  \n",
       "\n",
       "[12 rows x 21 columns]"
      ]
     },
     "execution_count": 60,
     "metadata": {},
     "output_type": "execute_result"
    }
   ],
   "source": [
    "crosstab_department"
   ]
  },
  {
   "cell_type": "code",
   "execution_count": 61,
   "id": "8e78fae3",
   "metadata": {},
   "outputs": [
    {
     "data": {
      "text/plain": [
       "([<matplotlib.axis.XTick at 0x7f878ba89970>,\n",
       "  <matplotlib.axis.XTick at 0x7f878ba89940>,\n",
       "  <matplotlib.axis.XTick at 0x7f878ba6d0d0>,\n",
       "  <matplotlib.axis.XTick at 0x7f878b9db040>,\n",
       "  <matplotlib.axis.XTick at 0x7f878b9db370>,\n",
       "  <matplotlib.axis.XTick at 0x7f878b9dbac0>,\n",
       "  <matplotlib.axis.XTick at 0x7f878b9d1250>,\n",
       "  <matplotlib.axis.XTick at 0x7f878b9d19a0>,\n",
       "  <matplotlib.axis.XTick at 0x7f878ba9bf40>,\n",
       "  <matplotlib.axis.XTick at 0x7f878b9f08e0>,\n",
       "  <matplotlib.axis.XTick at 0x7f878b9d1760>,\n",
       "  <matplotlib.axis.XTick at 0x7f878b9db760>],\n",
       " [Text(0, 0, 'babies\\nat home '),\n",
       "  Text(1, 0, 'employees'),\n",
       "  Text(2, 0, 'high-income\\nbig family'),\n",
       "  Text(3, 0, 'high-income\\nmedium family'),\n",
       "  Text(4, 0, 'high-income\\nsmall family'),\n",
       "  Text(5, 0, 'low-income\\nbig family'),\n",
       "  Text(6, 0, 'low-income\\nmedium family '),\n",
       "  Text(7, 0, 'low-income\\nsmall family '),\n",
       "  Text(8, 0, 'other'),\n",
       "  Text(9, 0, 'retired\\nless money'),\n",
       "  Text(10, 0, 'retired\\nwealthy'),\n",
       "  Text(11, 0, 'single adult')])"
      ]
     },
     "execution_count": 61,
     "metadata": {},
     "output_type": "execute_result"
    },
    {
     "data": {
      "image/png": "[encoded data removed]",
      "text/plain": [
       "<Figure size 2000x500 with 1 Axes>"
      ]
     },
     "metadata": {},
     "output_type": "display_data"
    }
   ],
   "source": [
    "# Creating stacked bar graph to plot profile for regions\n",
    "bar_profile_region = crosstab_region.loc[:,['Midwest','Northeast','South','West']].apply(lambda x: x*100/sum(x), axis=1).plot.bar(stacked=True, rot=0, figsize=(20,5), colormap='tab20c').legend(title=\"Region\", bbox_to_anchor=(1.0,1.0))\n",
    "plt.xlabel(\"\")\n",
    "plt.ylabel(\"% of orders by region\")\n",
    "plt.title (\"Instacart orders by profile and region\")\n",
    "plt.xticks([0,1,2,3,4,5,6,7,8,9,10,11],['babies\\nat home ','employees','high-income\\nbig family','high-income\\nmedium family','high-income\\nsmall family','low-income\\nbig family','low-income\\nmedium family ','low-income\\nsmall family ','other','retired\\nless money','retired\\nwealthy', 'single adult'])"
   ]
  },
  {
   "cell_type": "code",
   "execution_count": 62,
   "id": "b4e3ba5f",
   "metadata": {},
   "outputs": [],
   "source": [
    "# exporting bar chart\n",
    "bar_profile_region.figure.savefig(os.path.join(path, '04 Analysis', 'Visualizations', 'profile_region.png'), bbox_inches='tight')"
   ]
  },
  {
   "cell_type": "code",
   "execution_count": 63,
   "id": "161cf9ae",
   "metadata": {},
   "outputs": [
    {
     "data": {
      "text/plain": [
       "([<matplotlib.axis.XTick at 0x7f878b8c4cd0>,\n",
       "  <matplotlib.axis.XTick at 0x7f878b8c4ca0>,\n",
       "  <matplotlib.axis.XTick at 0x7f8781980eb0>,\n",
       "  <matplotlib.axis.XTick at 0x7f878b3fac40>,\n",
       "  <matplotlib.axis.XTick at 0x7f878b4033d0>,\n",
       "  <matplotlib.axis.XTick at 0x7f878b403b20>,\n",
       "  <matplotlib.axis.XTick at 0x7f878ba0a2e0>,\n",
       "  <matplotlib.axis.XTick at 0x7f878b403b80>,\n",
       "  <matplotlib.axis.XTick at 0x7f878b8c4b50>,\n",
       "  <matplotlib.axis.XTick at 0x7f878ba0adf0>,\n",
       "  <matplotlib.axis.XTick at 0x7f878ba10580>,\n",
       "  <matplotlib.axis.XTick at 0x7f878ba10cd0>],\n",
       " [Text(0, 0, 'babies\\nat home '),\n",
       "  Text(1, 0, 'employees'),\n",
       "  Text(2, 0, 'high-income\\nbig family'),\n",
       "  Text(3, 0, 'high-income\\nmedium family'),\n",
       "  Text(4, 0, 'high-income\\nsmall family'),\n",
       "  Text(5, 0, 'low-income\\nbig family'),\n",
       "  Text(6, 0, 'low-income\\nmedium family '),\n",
       "  Text(7, 0, 'low-income\\nsmall family '),\n",
       "  Text(8, 0, 'other'),\n",
       "  Text(9, 0, 'retired\\nless money'),\n",
       "  Text(10, 0, 'retired\\nwealthy'),\n",
       "  Text(11, 0, 'single adult')])"
      ]
     },
     "execution_count": 63,
     "metadata": {},
     "output_type": "execute_result"
    },
    {
     "data": {
      "image/png": "[encoded data removed]",
      "text/plain": [
       "<Figure size 2000x500 with 1 Axes>"
      ]
     },
     "metadata": {},
     "output_type": "display_data"
    }
   ],
   "source": [
    "##### Creating stacked bar graph to plot profile for department\n",
    "bar_profile_department = crosstab_department.loc[:,[1,2,3,4,5,6,7,8,9,10,11,12,13,14,15,16,17,18,19,20,21]].apply(lambda x: x*100/sum(x), axis=1).plot.bar(stacked=True, rot=0, figsize=(20,5), colormap='tab20c').legend(title=\"Dept ID\", bbox_to_anchor=(1.0,1.0))\n",
    "plt.xlabel(\"\")\n",
    "plt.ylabel(\"% of orders by Department\")\n",
    "plt.title (\"Instacart orders by profile and department\")\n",
    "plt.xticks([0,1,2,3,4,5,6,7,8,9,10,11],['babies\\nat home ','employees','high-income\\nbig family','high-income\\nmedium family','high-income\\nsmall family','low-income\\nbig family','low-income\\nmedium family ','low-income\\nsmall family ','other','retired\\nless money','retired\\nwealthy', 'single adult'])"
   ]
  },
  {
   "cell_type": "markdown",
   "id": "2f5d425d",
   "metadata": {},
   "source": [
    "### Extra plots"
   ]
  },
  {
   "cell_type": "markdown",
   "id": "80b3dfa5",
   "metadata": {},
   "source": [
    "### Are there differences in ordering habits based on a customer’s region?"
   ]
  },
  {
   "cell_type": "code",
   "execution_count": 64,
   "id": "5a8c240d",
   "metadata": {},
   "outputs": [],
   "source": [
    "# creating a crosstab to compare different orders by region and price range\n",
    "crosstab_orders_regions1 = pd.crosstab(df_2['region'], df_2['price_range_loc'], dropna = False)"
   ]
  },
  {
   "cell_type": "code",
   "execution_count": 65,
   "id": "e205148a",
   "metadata": {},
   "outputs": [
    {
     "data": {
      "text/html": [
       "<div>\n",
       "<style scoped>\n",
       "    .dataframe tbody tr th:only-of-type {\n",
       "        vertical-align: middle;\n",
       "    }\n",
       "\n",
       "    .dataframe tbody tr th {\n",
       "        vertical-align: top;\n",
       "    }\n",
       "\n",
       "    .dataframe thead th {\n",
       "        text-align: right;\n",
       "    }\n",
       "</style>\n",
       "<table border=\"1\" class=\"dataframe\">\n",
       "  <thead>\n",
       "    <tr style=\"text-align: right;\">\n",
       "      <th>price_range_loc</th>\n",
       "      <th>High-range product</th>\n",
       "      <th>Low-range product</th>\n",
       "      <th>Mid-range product</th>\n",
       "    </tr>\n",
       "    <tr>\n",
       "      <th>region</th>\n",
       "      <th></th>\n",
       "      <th></th>\n",
       "      <th></th>\n",
       "    </tr>\n",
       "  </thead>\n",
       "  <tbody>\n",
       "    <tr>\n",
       "      <th>Midwest</th>\n",
       "      <td>87962</td>\n",
       "      <td>2144620</td>\n",
       "      <td>4635837</td>\n",
       "    </tr>\n",
       "    <tr>\n",
       "      <th>Northeast</th>\n",
       "      <td>65887</td>\n",
       "      <td>1621053</td>\n",
       "      <td>3485921</td>\n",
       "    </tr>\n",
       "    <tr>\n",
       "      <th>South</th>\n",
       "      <td>125314</td>\n",
       "      <td>3043832</td>\n",
       "      <td>6587727</td>\n",
       "    </tr>\n",
       "    <tr>\n",
       "      <th>West</th>\n",
       "      <td>96670</td>\n",
       "      <td>2345813</td>\n",
       "      <td>5062645</td>\n",
       "    </tr>\n",
       "  </tbody>\n",
       "</table>\n",
       "</div>"
      ],
      "text/plain": [
       "price_range_loc  High-range product  Low-range product  Mid-range product\n",
       "region                                                                   \n",
       "Midwest                       87962            2144620            4635837\n",
       "Northeast                     65887            1621053            3485921\n",
       "South                        125314            3043832            6587727\n",
       "West                          96670            2345813            5062645"
      ]
     },
     "execution_count": 65,
     "metadata": {},
     "output_type": "execute_result"
    }
   ],
   "source": [
    "crosstab_orders_regions1"
   ]
  },
  {
   "cell_type": "code",
   "execution_count": 66,
   "id": "8c5d3fda",
   "metadata": {},
   "outputs": [
    {
     "data": {
      "text/plain": [
       "Text(0.5, 1.0, 'Instacart orders by region and price range groupings')"
      ]
     },
     "execution_count": 66,
     "metadata": {},
     "output_type": "execute_result"
    },
    {
     "data": {
      "image/png": "[encoded data removed]",
      "text/plain": [
       "<Figure size 1000x500 with 1 Axes>"
      ]
     },
     "metadata": {},
     "output_type": "display_data"
    }
   ],
   "source": [
    "#creating a bar chart\n",
    "barchart_price_region1 = crosstab_orders_regions1.iloc[:,[0,1,2]].plot.bar(rot=0, figsize=(10,5), colormap='tab10').legend(title=\"Price Range\", bbox_to_anchor=(1.0,1.0))\n",
    "plt.xlabel(\"\")\n",
    "plt.ylabel(\"Orders placed (in million)\")\n",
    "plt.title (\"Instacart orders by region and price range groupings\")"
   ]
  },
  {
   "cell_type": "code",
   "execution_count": 67,
   "id": "3d81d964",
   "metadata": {},
   "outputs": [],
   "source": [
    "# creating a crosstab to compare different orders by region and loyalty\n",
    "crosstab_orders_regions1 = pd.crosstab(df_2['region'], df_2['loyalty_flag'], dropna = False)"
   ]
  },
  {
   "cell_type": "code",
   "execution_count": 68,
   "id": "3f85ce45",
   "metadata": {},
   "outputs": [
    {
     "data": {
      "text/html": [
       "<div>\n",
       "<style scoped>\n",
       "    .dataframe tbody tr th:only-of-type {\n",
       "        vertical-align: middle;\n",
       "    }\n",
       "\n",
       "    .dataframe tbody tr th {\n",
       "        vertical-align: top;\n",
       "    }\n",
       "\n",
       "    .dataframe thead th {\n",
       "        text-align: right;\n",
       "    }\n",
       "</style>\n",
       "<table border=\"1\" class=\"dataframe\">\n",
       "  <thead>\n",
       "    <tr style=\"text-align: right;\">\n",
       "      <th>loyalty_flag</th>\n",
       "      <th>Loyal customer</th>\n",
       "      <th>New customer</th>\n",
       "      <th>Regular customer</th>\n",
       "    </tr>\n",
       "    <tr>\n",
       "      <th>region</th>\n",
       "      <th></th>\n",
       "      <th></th>\n",
       "      <th></th>\n",
       "    </tr>\n",
       "  </thead>\n",
       "  <tbody>\n",
       "    <tr>\n",
       "      <th>Midwest</th>\n",
       "      <td>2329930</td>\n",
       "      <td>976004</td>\n",
       "      <td>3562485</td>\n",
       "    </tr>\n",
       "    <tr>\n",
       "      <th>Northeast</th>\n",
       "      <td>1807933</td>\n",
       "      <td>723027</td>\n",
       "      <td>2641901</td>\n",
       "    </tr>\n",
       "    <tr>\n",
       "      <th>South</th>\n",
       "      <td>3342987</td>\n",
       "      <td>1369008</td>\n",
       "      <td>5044878</td>\n",
       "    </tr>\n",
       "    <tr>\n",
       "      <th>West</th>\n",
       "      <td>2614531</td>\n",
       "      <td>1058170</td>\n",
       "      <td>3832427</td>\n",
       "    </tr>\n",
       "  </tbody>\n",
       "</table>\n",
       "</div>"
      ],
      "text/plain": [
       "loyalty_flag  Loyal customer  New customer  Regular customer\n",
       "region                                                      \n",
       "Midwest              2329930        976004           3562485\n",
       "Northeast            1807933        723027           2641901\n",
       "South                3342987       1369008           5044878\n",
       "West                 2614531       1058170           3832427"
      ]
     },
     "execution_count": 68,
     "metadata": {},
     "output_type": "execute_result"
    }
   ],
   "source": [
    "crosstab_orders_regions1"
   ]
  },
  {
   "cell_type": "code",
   "execution_count": 69,
   "id": "48a9bdff",
   "metadata": {},
   "outputs": [
    {
     "data": {
      "text/plain": [
       "Text(0.5, 1.0, 'Instacart orders by region and loyalty groupings')"
      ]
     },
     "execution_count": 69,
     "metadata": {},
     "output_type": "execute_result"
    },
    {
     "data": {
      "image/png": "[encoded data removed]",
      "text/plain": [
       "<Figure size 1000x500 with 1 Axes>"
      ]
     },
     "metadata": {},
     "output_type": "display_data"
    }
   ],
   "source": [
    "#creating a bar chart\n",
    "barchart_loyalty_region1 = crosstab_orders_regions1.iloc[:,[0,1,2]].plot.bar(rot=0, figsize=(10,5), colormap='tab10').legend(title=\"Customer\", bbox_to_anchor=(1.0,1.0))\n",
    "plt.xlabel(\"\")\n",
    "plt.ylabel(\"Orders placed (in million)\")\n",
    "plt.title (\"Instacart orders by region and loyalty groupings\")"
   ]
  },
  {
   "cell_type": "markdown",
   "id": "4d33818b",
   "metadata": {},
   "source": [
    "### What different classifications does the demographic information suggest? Age? Income? Certain types of goods? Family status?\n"
   ]
  },
  {
   "cell_type": "markdown",
   "id": "d1fa31da",
   "metadata": {},
   "source": [
    "##### Creating age categories"
   ]
  },
  {
   "cell_type": "code",
   "execution_count": 70,
   "id": "66901ad8",
   "metadata": {},
   "outputs": [],
   "source": [
    "# creating age categories\n",
    "df_2.loc[(df_2['age'] ==18) & (df_2['age'] < 25), 'age_flag'] = 'Youth (15-24 years)'\n",
    "df_2.loc[(df_2['age'] ==25) & (df_2['age'] < 45), 'age_flag'] = 'Adult I (25-44 years)'\n",
    "df_2.loc[(df_2['age'] ==44) & (df_2['age'] < 65), 'age_flag'] = 'Adult II (45-64 years)'\n",
    "df_2.loc[(df_2['age'] > 64), 'age_flag'] = 'Seniors (65 years and over)'"
   ]
  },
  {
   "cell_type": "code",
   "execution_count": 71,
   "id": "f8d6240f",
   "metadata": {},
   "outputs": [
    {
     "data": {
      "text/plain": [
       "Seniors (65 years and over)    7754560\n",
       "Adult II (45-64 years)          468245\n",
       "Youth (15-24 years)             453014\n",
       "Adult I (25-44 years)           424741\n",
       "Name: age_flag, dtype: int64"
      ]
     },
     "execution_count": 71,
     "metadata": {},
     "output_type": "execute_result"
    }
   ],
   "source": [
    "df_2['age_flag'].value_counts()"
   ]
  },
  {
   "cell_type": "code",
   "execution_count": 72,
   "id": "289cb253",
   "metadata": {},
   "outputs": [
    {
     "data": {
      "text/plain": [
       "Text(0.5, 1.0, 'Instacart income for differente profiles')"
      ]
     },
     "execution_count": 72,
     "metadata": {},
     "output_type": "execute_result"
    },
    {
     "data": {
      "image/png": "[encoded data removed]",
      "text/plain": [
       "<Figure size 640x480 with 1 Axes>"
      ]
     },
     "metadata": {},
     "output_type": "display_data"
    }
   ],
   "source": [
    "sns.set(font_scale=1.3)\n",
    "boxplot_profile_income = sns.boxplot(x='profile',\n",
    "                y='income',\n",
    "                data=df_2)\n",
    "plt.xticks(rotation=90)\n",
    "plt.title (\"Instacart income for differente profiles\")"
   ]
  },
  {
   "cell_type": "code",
   "execution_count": 73,
   "id": "d2a58124",
   "metadata": {},
   "outputs": [
    {
     "data": {
      "text/plain": [
       "Text(0.5, 1.0, 'Instacart income for differente ages')"
      ]
     },
     "execution_count": 73,
     "metadata": {},
     "output_type": "execute_result"
    },
    {
     "data": {
      "image/png": "[encoded data removed]",
      "text/plain": [
       "<Figure size 640x480 with 1 Axes>"
      ]
     },
     "metadata": {},
     "output_type": "display_data"
    }
   ],
   "source": [
    "sns.set(font_scale=1.3)\n",
    "boxplot_profile_age = sns.boxplot(x='profile',\n",
    "                y='age',\n",
    "                data=df_2)\n",
    "plt.xticks(rotation=90)\n",
    "plt.title (\"Instacart income for differente ages\")"
   ]
  },
  {
   "cell_type": "code",
   "execution_count": 74,
   "id": "f08f198d",
   "metadata": {},
   "outputs": [],
   "source": [
    "# creating a crosstab to compare different orders by region and loyalty\n",
    "crosstab_profile_family = pd.crosstab(df_2['profile'], df_2['family_status'], dropna = False)"
   ]
  },
  {
   "cell_type": "code",
   "execution_count": 75,
   "id": "6a78647c",
   "metadata": {},
   "outputs": [
    {
     "data": {
      "text/html": [
       "<div>\n",
       "<style scoped>\n",
       "    .dataframe tbody tr th:only-of-type {\n",
       "        vertical-align: middle;\n",
       "    }\n",
       "\n",
       "    .dataframe tbody tr th {\n",
       "        vertical-align: top;\n",
       "    }\n",
       "\n",
       "    .dataframe thead th {\n",
       "        text-align: right;\n",
       "    }\n",
       "</style>\n",
       "<table border=\"1\" class=\"dataframe\">\n",
       "  <thead>\n",
       "    <tr style=\"text-align: right;\">\n",
       "      <th>family_status</th>\n",
       "      <th>divorced/widowed</th>\n",
       "      <th>living with parents and siblings</th>\n",
       "      <th>married</th>\n",
       "      <th>single</th>\n",
       "    </tr>\n",
       "    <tr>\n",
       "      <th>profile</th>\n",
       "      <th></th>\n",
       "      <th></th>\n",
       "      <th></th>\n",
       "      <th></th>\n",
       "    </tr>\n",
       "  </thead>\n",
       "  <tbody>\n",
       "    <tr>\n",
       "      <th>babies at home</th>\n",
       "      <td>0</td>\n",
       "      <td>471</td>\n",
       "      <td>105342</td>\n",
       "      <td>0</td>\n",
       "    </tr>\n",
       "    <tr>\n",
       "      <th>employees</th>\n",
       "      <td>7930</td>\n",
       "      <td>0</td>\n",
       "      <td>60754</td>\n",
       "      <td>12360</td>\n",
       "    </tr>\n",
       "    <tr>\n",
       "      <th>high-income big family</th>\n",
       "      <td>0</td>\n",
       "      <td>14721</td>\n",
       "      <td>1955541</td>\n",
       "      <td>0</td>\n",
       "    </tr>\n",
       "    <tr>\n",
       "      <th>high-income medium family</th>\n",
       "      <td>0</td>\n",
       "      <td>13581</td>\n",
       "      <td>1902056</td>\n",
       "      <td>0</td>\n",
       "    </tr>\n",
       "    <tr>\n",
       "      <th>high-income small family</th>\n",
       "      <td>0</td>\n",
       "      <td>16414</td>\n",
       "      <td>1947582</td>\n",
       "      <td>0</td>\n",
       "    </tr>\n",
       "    <tr>\n",
       "      <th>low-income big family</th>\n",
       "      <td>0</td>\n",
       "      <td>0</td>\n",
       "      <td>555939</td>\n",
       "      <td>0</td>\n",
       "    </tr>\n",
       "    <tr>\n",
       "      <th>low-income medium family</th>\n",
       "      <td>0</td>\n",
       "      <td>0</td>\n",
       "      <td>581930</td>\n",
       "      <td>0</td>\n",
       "    </tr>\n",
       "    <tr>\n",
       "      <th>low-income small family</th>\n",
       "      <td>0</td>\n",
       "      <td>0</td>\n",
       "      <td>576689</td>\n",
       "      <td>0</td>\n",
       "    </tr>\n",
       "    <tr>\n",
       "      <th>other</th>\n",
       "      <td>964449</td>\n",
       "      <td>0</td>\n",
       "      <td>338</td>\n",
       "      <td>0</td>\n",
       "    </tr>\n",
       "    <tr>\n",
       "      <th>retired less money</th>\n",
       "      <td>187005</td>\n",
       "      <td>1357465</td>\n",
       "      <td>8799347</td>\n",
       "      <td>3188640</td>\n",
       "    </tr>\n",
       "    <tr>\n",
       "      <th>retired wealthy</th>\n",
       "      <td>1344730</td>\n",
       "      <td>0</td>\n",
       "      <td>4090224</td>\n",
       "      <td>0</td>\n",
       "    </tr>\n",
       "    <tr>\n",
       "      <th>single adult</th>\n",
       "      <td>0</td>\n",
       "      <td>0</td>\n",
       "      <td>0</td>\n",
       "      <td>1619773</td>\n",
       "    </tr>\n",
       "  </tbody>\n",
       "</table>\n",
       "</div>"
      ],
      "text/plain": [
       "family_status              divorced/widowed  living with parents and siblings  \\\n",
       "profile                                                                         \n",
       "babies at home                            0                               471   \n",
       "employees                              7930                                 0   \n",
       "high-income big family                    0                             14721   \n",
       "high-income medium family                 0                             13581   \n",
       "high-income small family                  0                             16414   \n",
       "low-income big family                     0                                 0   \n",
       "low-income medium family                  0                                 0   \n",
       "low-income small family                   0                                 0   \n",
       "other                                964449                                 0   \n",
       "retired less money                   187005                           1357465   \n",
       "retired wealthy                     1344730                                 0   \n",
       "single adult                              0                                 0   \n",
       "\n",
       "family_status              married   single  \n",
       "profile                                      \n",
       "babies at home              105342        0  \n",
       "employees                    60754    12360  \n",
       "high-income big family     1955541        0  \n",
       "high-income medium family  1902056        0  \n",
       "high-income small family   1947582        0  \n",
       "low-income big family       555939        0  \n",
       "low-income medium family    581930        0  \n",
       "low-income small family     576689        0  \n",
       "other                          338        0  \n",
       "retired less money         8799347  3188640  \n",
       "retired wealthy            4090224        0  \n",
       "single adult                     0  1619773  "
      ]
     },
     "execution_count": 75,
     "metadata": {},
     "output_type": "execute_result"
    }
   ],
   "source": [
    "crosstab_profile_family"
   ]
  },
  {
   "cell_type": "code",
   "execution_count": 76,
   "id": "02630c14",
   "metadata": {},
   "outputs": [
    {
     "data": {
      "text/plain": [
       "([<matplotlib.axis.XTick at 0x7f8fb70bbca0>,\n",
       "  <matplotlib.axis.XTick at 0x7f8fb70bbc70>,\n",
       "  <matplotlib.axis.XTick at 0x7f8bdabc0040>,\n",
       "  <matplotlib.axis.XTick at 0x7f8bee608400>,\n",
       "  <matplotlib.axis.XTick at 0x7f8bee608190>,\n",
       "  <matplotlib.axis.XTick at 0x7f8bed4d00a0>,\n",
       "  <matplotlib.axis.XTick at 0x7f8bed4d0760>,\n",
       "  <matplotlib.axis.XTick at 0x7f8beb80a040>,\n",
       "  <matplotlib.axis.XTick at 0x7f8fb70bbb50>,\n",
       "  <matplotlib.axis.XTick at 0x7f8beb80adf0>,\n",
       "  <matplotlib.axis.XTick at 0x7f8beb80a970>,\n",
       "  <matplotlib.axis.XTick at 0x7f8bed4d0820>],\n",
       " [Text(0, 0, 'babies\\nat home '),\n",
       "  Text(1, 0, 'employees'),\n",
       "  Text(2, 0, 'high-income\\nbig family'),\n",
       "  Text(3, 0, 'high-income\\nmedium family'),\n",
       "  Text(4, 0, 'high-income\\nsmall family'),\n",
       "  Text(5, 0, 'low-income\\nbig family'),\n",
       "  Text(6, 0, 'low-income\\nmedium family '),\n",
       "  Text(7, 0, 'low-income\\nsmall family '),\n",
       "  Text(8, 0, 'other'),\n",
       "  Text(9, 0, 'retired\\nless money'),\n",
       "  Text(10, 0, 'retired\\nwealthy'),\n",
       "  Text(11, 0, 'single adult')])"
      ]
     },
     "execution_count": 76,
     "metadata": {},
     "output_type": "execute_result"
    },
    {
     "data": {
      "image/png": "[encoded data removed]",
      "text/plain": [
       "<Figure size 2000x500 with 1 Axes>"
      ]
     },
     "metadata": {},
     "output_type": "display_data"
    }
   ],
   "source": [
    "# Creating stacked bar graph to plot profile for family status\n",
    "bar_profile_family = crosstab_profile_family.loc[:,['divorced/widowed','living with parents and siblings','married','single']].apply(lambda x: x*100/sum(x), axis=1).plot.bar(stacked=True, rot=0, figsize=(20,5), colormap='tab20c').legend(title=\"Family status\", bbox_to_anchor=(1.0,1.0))\n",
    "plt.xlabel(\"\")\n",
    "plt.ylabel(\"Frequency\")\n",
    "plt.title (\"Instacart orders by profile and family status\")\n",
    "plt.xticks([0,1,2,3,4,5,6,7,8,9,10,11],['babies\\nat home ','employees','high-income\\nbig family','high-income\\nmedium family','high-income\\nsmall family','low-income\\nbig family','low-income\\nmedium family ','low-income\\nsmall family ','other','retired\\nless money','retired\\nwealthy', 'single adult'])"
   ]
  },
  {
   "cell_type": "markdown",
   "id": "167b8624",
   "metadata": {},
   "source": [
    "### Saving plots"
   ]
  },
  {
   "cell_type": "code",
   "execution_count": 77,
   "id": "46cc12ff",
   "metadata": {},
   "outputs": [],
   "source": [
    "# exporting bar chart\n",
    "bar_profile_department.figure.savefig(os.path.join(path, '04 Analysis', 'Visualizations', 'profile_department.png'), bbox_inches='tight')"
   ]
  },
  {
   "cell_type": "code",
   "execution_count": 78,
   "id": "71855808",
   "metadata": {},
   "outputs": [],
   "source": [
    "barchart_price_region1.figure.savefig(os.path.join(path, '04 Analysis', 'Visualizations', 'barchart_price_region1.png'), bbox_inches='tight')"
   ]
  },
  {
   "cell_type": "code",
   "execution_count": 79,
   "id": "796bac6f",
   "metadata": {},
   "outputs": [],
   "source": [
    "barchart_loyalty_region1.figure.savefig(os.path.join(path, '04 Analysis', 'Visualizations', 'barchart_loyalty_region1.png'), bbox_inches='tight')"
   ]
  },
  {
   "cell_type": "code",
   "execution_count": 80,
   "id": "3a875c14",
   "metadata": {},
   "outputs": [],
   "source": [
    "boxplot_profile_income.figure.savefig(os.path.join(path, '04 Analysis', 'Visualizations', 'boxplot_profile_income.png'), bbox_inches='tight')"
   ]
  },
  {
   "cell_type": "code",
   "execution_count": 81,
   "id": "03820ecf",
   "metadata": {},
   "outputs": [],
   "source": [
    "boxplot_profile_age.figure.savefig(os.path.join(path, '04 Analysis', 'Visualizations', 'boxplot_profile_age.png'), bbox_inches='tight')"
   ]
  },
  {
   "cell_type": "code",
   "execution_count": 82,
   "id": "cb5a4960",
   "metadata": {},
   "outputs": [],
   "source": [
    "bar_profile_family.figure.savefig(os.path.join(path, '04 Analysis', 'Visualizations', 'bar_profile_family.png'), bbox_inches='tight')"
   ]
  },
  {
   "cell_type": "markdown",
   "id": "44521e00",
   "metadata": {},
   "source": [
    "### 9. Exporting dataset"
   ]
  },
  {
   "cell_type": "code",
   "execution_count": 83,
   "id": "f7463859",
   "metadata": {},
   "outputs": [],
   "source": [
    "# Export data frame with new variable profile\n",
    "df_2.to_pickle(os.path.join(path, '02 Data', 'Prepared Data', 'df_high_activity_customers_profile.pkl'))"
   ]
  },
  {
   "cell_type": "code",
   "execution_count": null,
   "id": "bcdafa92",
   "metadata": {},
   "outputs": [],
   "source": []
  }
 ],
 "metadata": {
  "kernelspec": {
   "display_name": "Python 3 (ipykernel)",
   "language": "python",
   "name": "python3"
  },
  "language_info": {
   "codemirror_mode": {
    "name": "ipython",
    "version": 3
   },
   "file_extension": ".py",
   "mimetype": "text/x-python",
   "name": "python",
   "nbconvert_exporter": "python",
   "pygments_lexer": "ipython3",
   "version": "3.9.13"
  }
 },
 "nbformat": 4,
 "nbformat_minor": 5
}
